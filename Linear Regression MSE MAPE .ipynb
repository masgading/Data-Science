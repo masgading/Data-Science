{
 "cells": [
  {
   "cell_type": "markdown",
   "metadata": {},
   "source": [
    "Regresi Linier\n",
    "Metode regresi linier adalah suatu cara untuk menentukan hubungan antara variabel terikat (tidak bebas) terhadap variabel bebas. Kedua variabel ini apabila dinyatakan dalam bentuk kurva akan berupa garis lurus. Metode ini dibuat dengan cara uji coba (trial and error), dimana bentuk persamaan yang didapatkan harus dilakukan uji statistik yang meliputi koefisien korelasi (R), koefisien determinasi (R2), faktor penyimpangan (standard deviation), dan tingkat konvergensi (C)."
   ]
  },
  {
   "cell_type": "code",
   "execution_count": 5,
   "metadata": {},
   "outputs": [],
   "source": [
    "import requests\n",
    "import pandas as pd\n",
    "import numpy as np\n",
    "from matplotlib import pyplot as plt\n",
    "from sklearn.linear_model import LinearRegression #Library untuk Regresi Linier\n",
    "from sklearn.metrics import mean_squared_error #Library MSE\n",
    "from sklearn.ensemble import IsolationForest #Library untuk mencari data Outlier"
   ]
  },
  {
   "cell_type": "code",
   "execution_count": 6,
   "metadata": {},
   "outputs": [],
   "source": [
    "#Sesuaikan dengan directory file masing-masing\n",
    "data = pd.read_csv(\"C:/Users/SECTIO/Downloads/Gold Futures Historical Data.csv\", sep=\";\") "
   ]
  },
  {
   "cell_type": "code",
   "execution_count": 8,
   "metadata": {},
   "outputs": [
    {
     "data": {
      "text/html": [
       "<div>\n",
       "<style scoped>\n",
       "    .dataframe tbody tr th:only-of-type {\n",
       "        vertical-align: middle;\n",
       "    }\n",
       "\n",
       "    .dataframe tbody tr th {\n",
       "        vertical-align: top;\n",
       "    }\n",
       "\n",
       "    .dataframe thead th {\n",
       "        text-align: right;\n",
       "    }\n",
       "</style>\n",
       "<table border=\"1\" class=\"dataframe\">\n",
       "  <thead>\n",
       "    <tr style=\"text-align: right;\">\n",
       "      <th></th>\n",
       "      <th>Date</th>\n",
       "      <th>Price</th>\n",
       "      <th>Open</th>\n",
       "      <th>High</th>\n",
       "      <th>Low</th>\n",
       "      <th>Volume</th>\n",
       "      <th>Volatility</th>\n",
       "      <th>Fluktuasi</th>\n",
       "    </tr>\n",
       "  </thead>\n",
       "  <tbody>\n",
       "    <tr>\n",
       "      <th>0</th>\n",
       "      <td>2021</td>\n",
       "      <td>1,818.55</td>\n",
       "      <td>1,781.25</td>\n",
       "      <td>1,820.45</td>\n",
       "      <td>1,758.90</td>\n",
       "      <td>222.61K</td>\n",
       "      <td>1,9</td>\n",
       "      <td>Naik</td>\n",
       "    </tr>\n",
       "    <tr>\n",
       "      <th>1</th>\n",
       "      <td>2021</td>\n",
       "      <td>1,783.90</td>\n",
       "      <td>1,757.20</td>\n",
       "      <td>1,815.50</td>\n",
       "      <td>1,745.40</td>\n",
       "      <td>3.92M</td>\n",
       "      <td>1,5</td>\n",
       "      <td>Naik</td>\n",
       "    </tr>\n",
       "    <tr>\n",
       "      <th>2</th>\n",
       "      <td>2021</td>\n",
       "      <td>1,757.00</td>\n",
       "      <td>1,816.70</td>\n",
       "      <td>1,836.90</td>\n",
       "      <td>1,721.10</td>\n",
       "      <td>3.65M</td>\n",
       "      <td>-3,4</td>\n",
       "      <td>Turun</td>\n",
       "    </tr>\n",
       "    <tr>\n",
       "      <th>3</th>\n",
       "      <td>2021</td>\n",
       "      <td>1,818.10</td>\n",
       "      <td>1,817.00</td>\n",
       "      <td>1,835.90</td>\n",
       "      <td>1,677.90</td>\n",
       "      <td>3.66M</td>\n",
       "      <td>0,3</td>\n",
       "      <td>Netral</td>\n",
       "    </tr>\n",
       "  </tbody>\n",
       "</table>\n",
       "</div>"
      ],
      "text/plain": [
       "   Date     Price      Open      High       Low   Volume Volatility Fluktuasi\n",
       "0  2021  1,818.55  1,781.25  1,820.45  1,758.90  222.61K        1,9      Naik\n",
       "1  2021  1,783.90  1,757.20  1,815.50  1,745.40    3.92M        1,5      Naik\n",
       "2  2021  1,757.00  1,816.70  1,836.90  1,721.10    3.65M       -3,4     Turun\n",
       "3  2021  1,818.10  1,817.00  1,835.90  1,677.90    3.66M        0,3    Netral"
      ]
     },
     "execution_count": 8,
     "metadata": {},
     "output_type": "execute_result"
    }
   ],
   "source": [
    "#menampilkan data 4 record\n",
    "data.head(4)"
   ]
  },
  {
   "cell_type": "code",
   "execution_count": 9,
   "metadata": {},
   "outputs": [
    {
     "data": {
      "text/html": [
       "<div>\n",
       "<style scoped>\n",
       "    .dataframe tbody tr th:only-of-type {\n",
       "        vertical-align: middle;\n",
       "    }\n",
       "\n",
       "    .dataframe tbody tr th {\n",
       "        vertical-align: top;\n",
       "    }\n",
       "\n",
       "    .dataframe thead th {\n",
       "        text-align: right;\n",
       "    }\n",
       "</style>\n",
       "<table border=\"1\" class=\"dataframe\">\n",
       "  <thead>\n",
       "    <tr style=\"text-align: right;\">\n",
       "      <th></th>\n",
       "      <th>Date</th>\n",
       "    </tr>\n",
       "  </thead>\n",
       "  <tbody>\n",
       "    <tr>\n",
       "      <th>count</th>\n",
       "      <td>179.000000</td>\n",
       "    </tr>\n",
       "    <tr>\n",
       "      <th>mean</th>\n",
       "      <td>2013.960894</td>\n",
       "    </tr>\n",
       "    <tr>\n",
       "      <th>std</th>\n",
       "      <td>4.312724</td>\n",
       "    </tr>\n",
       "    <tr>\n",
       "      <th>min</th>\n",
       "      <td>2007.000000</td>\n",
       "    </tr>\n",
       "    <tr>\n",
       "      <th>25%</th>\n",
       "      <td>2010.000000</td>\n",
       "    </tr>\n",
       "    <tr>\n",
       "      <th>50%</th>\n",
       "      <td>2014.000000</td>\n",
       "    </tr>\n",
       "    <tr>\n",
       "      <th>75%</th>\n",
       "      <td>2018.000000</td>\n",
       "    </tr>\n",
       "    <tr>\n",
       "      <th>max</th>\n",
       "      <td>2021.000000</td>\n",
       "    </tr>\n",
       "  </tbody>\n",
       "</table>\n",
       "</div>"
      ],
      "text/plain": [
       "              Date\n",
       "count   179.000000\n",
       "mean   2013.960894\n",
       "std       4.312724\n",
       "min    2007.000000\n",
       "25%    2010.000000\n",
       "50%    2014.000000\n",
       "75%    2018.000000\n",
       "max    2021.000000"
      ]
     },
     "execution_count": 9,
     "metadata": {},
     "output_type": "execute_result"
    }
   ],
   "source": [
    "data.describe()"
   ]
  },
  {
   "cell_type": "markdown",
   "metadata": {},
   "source": [
    "Pre-processing\n",
    "Pre-processing adalah suatu kegiatan untuk membersihkan data sebelum diolah lebih lanjut seperti\n",
    "\n",
    "Mengganti tipe data kolom\n",
    "Menghilangkan data noise seperti data kosong/num\n",
    "Mengganti data noise menjadi nilai kalkulasi rata-rata atau median (khusus kolom tipe data berupa angka)\n",
    "Menghilangkan data outlier yang sekiranya akan mengganggu proses pengolahan data\n",
    "Dan lainnya"
   ]
  },
  {
   "cell_type": "code",
   "execution_count": 10,
   "metadata": {},
   "outputs": [
    {
     "data": {
      "text/plain": [
       "Date           int64\n",
       "Price         object\n",
       "Open          object\n",
       "High          object\n",
       "Low           object\n",
       "Volume        object\n",
       "Volatility    object\n",
       "Fluktuasi     object\n",
       "dtype: object"
      ]
     },
     "execution_count": 10,
     "metadata": {},
     "output_type": "execute_result"
    }
   ],
   "source": [
    "#cek tipe data\n",
    "data.dtypes"
   ]
  },
  {
   "cell_type": "code",
   "execution_count": 11,
   "metadata": {},
   "outputs": [],
   "source": [
    "#ubah tipe data\n",
    "data['Price'] = data['Price'].str.replace(',', '').astype(float)\n",
    "data['Open'] = data['Open'].str.replace(',', '').astype(float)\n",
    "data['High'] = data['High'].str.replace(',', '').astype(float)\n",
    "data['Low'] = data['Low'].str.replace(',', '').astype(float)\n",
    "data['Volatility'] = data['Volatility'].str.replace(',', '.').astype(float)"
   ]
  },
  {
   "cell_type": "markdown",
   "metadata": {},
   "source": [
    "Setelah Pre-Processing"
   ]
  },
  {
   "cell_type": "code",
   "execution_count": 12,
   "metadata": {},
   "outputs": [
    {
     "data": {
      "text/plain": [
       "Date            int64\n",
       "Price         float64\n",
       "Open          float64\n",
       "High          float64\n",
       "Low           float64\n",
       "Volume         object\n",
       "Volatility    float64\n",
       "Fluktuasi      object\n",
       "dtype: object"
      ]
     },
     "execution_count": 12,
     "metadata": {},
     "output_type": "execute_result"
    }
   ],
   "source": [
    "#cek tipe data\n",
    "data.dtypes"
   ]
  },
  {
   "cell_type": "code",
   "execution_count": 13,
   "metadata": {},
   "outputs": [
    {
     "data": {
      "text/html": [
       "<div>\n",
       "<style scoped>\n",
       "    .dataframe tbody tr th:only-of-type {\n",
       "        vertical-align: middle;\n",
       "    }\n",
       "\n",
       "    .dataframe tbody tr th {\n",
       "        vertical-align: top;\n",
       "    }\n",
       "\n",
       "    .dataframe thead th {\n",
       "        text-align: right;\n",
       "    }\n",
       "</style>\n",
       "<table border=\"1\" class=\"dataframe\">\n",
       "  <thead>\n",
       "    <tr style=\"text-align: right;\">\n",
       "      <th></th>\n",
       "      <th>Date</th>\n",
       "      <th>Price</th>\n",
       "      <th>Open</th>\n",
       "      <th>High</th>\n",
       "      <th>Low</th>\n",
       "      <th>Volatility</th>\n",
       "    </tr>\n",
       "  </thead>\n",
       "  <tbody>\n",
       "    <tr>\n",
       "      <th>count</th>\n",
       "      <td>179.000000</td>\n",
       "      <td>179.000000</td>\n",
       "      <td>179.000000</td>\n",
       "      <td>179.000000</td>\n",
       "      <td>179.000000</td>\n",
       "      <td>179.000000</td>\n",
       "    </tr>\n",
       "    <tr>\n",
       "      <th>mean</th>\n",
       "      <td>2013.960894</td>\n",
       "      <td>1331.139385</td>\n",
       "      <td>1327.106983</td>\n",
       "      <td>1366.603631</td>\n",
       "      <td>1290.482123</td>\n",
       "      <td>0.715642</td>\n",
       "    </tr>\n",
       "    <tr>\n",
       "      <th>std</th>\n",
       "      <td>4.312724</td>\n",
       "      <td>315.711490</td>\n",
       "      <td>318.376190</td>\n",
       "      <td>325.603855</td>\n",
       "      <td>308.757162</td>\n",
       "      <td>5.076547</td>\n",
       "    </tr>\n",
       "    <tr>\n",
       "      <th>min</th>\n",
       "      <td>2007.000000</td>\n",
       "      <td>648.100000</td>\n",
       "      <td>640.400000</td>\n",
       "      <td>655.500000</td>\n",
       "      <td>607.000000</td>\n",
       "      <td>-18.000000</td>\n",
       "    </tr>\n",
       "    <tr>\n",
       "      <th>25%</th>\n",
       "      <td>2010.000000</td>\n",
       "      <td>1181.400000</td>\n",
       "      <td>1181.400000</td>\n",
       "      <td>1209.650000</td>\n",
       "      <td>1160.300000</td>\n",
       "      <td>-2.550000</td>\n",
       "    </tr>\n",
       "    <tr>\n",
       "      <th>50%</th>\n",
       "      <td>2014.000000</td>\n",
       "      <td>1334.300000</td>\n",
       "      <td>1333.100000</td>\n",
       "      <td>1350.200000</td>\n",
       "      <td>1309.000000</td>\n",
       "      <td>0.400000</td>\n",
       "    </tr>\n",
       "    <tr>\n",
       "      <th>75%</th>\n",
       "      <td>2018.000000</td>\n",
       "      <td>1562.850000</td>\n",
       "      <td>1554.400000</td>\n",
       "      <td>1579.500000</td>\n",
       "      <td>1511.100000</td>\n",
       "      <td>3.700000</td>\n",
       "    </tr>\n",
       "    <tr>\n",
       "      <th>max</th>\n",
       "      <td>2021.000000</td>\n",
       "      <td>2017.100000</td>\n",
       "      <td>2026.900000</td>\n",
       "      <td>2120.000000</td>\n",
       "      <td>1913.000000</td>\n",
       "      <td>13.900000</td>\n",
       "    </tr>\n",
       "  </tbody>\n",
       "</table>\n",
       "</div>"
      ],
      "text/plain": [
       "              Date        Price         Open         High          Low  \\\n",
       "count   179.000000   179.000000   179.000000   179.000000   179.000000   \n",
       "mean   2013.960894  1331.139385  1327.106983  1366.603631  1290.482123   \n",
       "std       4.312724   315.711490   318.376190   325.603855   308.757162   \n",
       "min    2007.000000   648.100000   640.400000   655.500000   607.000000   \n",
       "25%    2010.000000  1181.400000  1181.400000  1209.650000  1160.300000   \n",
       "50%    2014.000000  1334.300000  1333.100000  1350.200000  1309.000000   \n",
       "75%    2018.000000  1562.850000  1554.400000  1579.500000  1511.100000   \n",
       "max    2021.000000  2017.100000  2026.900000  2120.000000  1913.000000   \n",
       "\n",
       "       Volatility  \n",
       "count  179.000000  \n",
       "mean     0.715642  \n",
       "std      5.076547  \n",
       "min    -18.000000  \n",
       "25%     -2.550000  \n",
       "50%      0.400000  \n",
       "75%      3.700000  \n",
       "max     13.900000  "
      ]
     },
     "execution_count": 13,
     "metadata": {},
     "output_type": "execute_result"
    }
   ],
   "source": [
    "data.describe()"
   ]
  },
  {
   "cell_type": "markdown",
   "metadata": {},
   "source": [
    "Pengolahan Data"
   ]
  },
  {
   "cell_type": "code",
   "execution_count": 14,
   "metadata": {},
   "outputs": [],
   "source": [
    "#Mencari rata-rata harga untuk dikelompokkan berdasarkan tahun\n",
    "avg_gold_price = data.groupby('Date')['Price'].mean() "
   ]
  },
  {
   "cell_type": "code",
   "execution_count": 15,
   "metadata": {},
   "outputs": [
    {
     "name": "stdout",
     "output_type": "stream",
     "text": [
      "Rata-rata harga emas per tahun\n",
      " Date\n",
      "2007     705.483333\n",
      "2008     876.775000\n",
      "2009     984.783333\n",
      "2010    1237.783333\n",
      "2011    1574.075000\n",
      "2012    1676.325000\n",
      "2013    1394.400000\n",
      "2014    1263.933333\n",
      "2015    1234.533333\n",
      "2016    1305.200000\n",
      "2017    1345.766667\n",
      "2018    1352.216667\n",
      "2019    1453.883333\n",
      "2020    1805.750000\n",
      "2021    1794.822727\n",
      "Name: Price, dtype: float64\n"
     ]
    }
   ],
   "source": [
    "#rata-rata harga emas pertahun\n",
    "print('Rata-rata harga emas per tahun\\n',avg_gold_price)"
   ]
  },
  {
   "cell_type": "code",
   "execution_count": 16,
   "metadata": {},
   "outputs": [],
   "source": [
    "#buat sumbu visualisasi data\n",
    "x=avg_gold_price.index\n",
    "y=avg_gold_price.values"
   ]
  },
  {
   "cell_type": "code",
   "execution_count": 17,
   "metadata": {},
   "outputs": [
    {
     "data": {
      "text/plain": [
       "Text(0, 0.5, 'Rata-Rata Harga Emas')"
      ]
     },
     "execution_count": 17,
     "metadata": {},
     "output_type": "execute_result"
    },
    {
     "data": {
      "image/png": "[encoded data removed]",
      "text/plain": [
       "<Figure size 432x288 with 1 Axes>"
      ]
     },
     "metadata": {
      "needs_background": "light"
     },
     "output_type": "display_data"
    }
   ],
   "source": [
    "plt.scatter(x, y)\n",
    "plt.plot(x, y)\n",
    "plt.xlabel('Tahun')\n",
    "plt.ylabel('Rata-Rata Harga Emas')"
   ]
  },
  {
   "cell_type": "markdown",
   "metadata": {},
   "source": [
    "Regresi Linier Sederhana"
   ]
  },
  {
   "cell_type": "code",
   "execution_count": 18,
   "metadata": {},
   "outputs": [
    {
     "data": {
      "text/plain": [
       "LinearRegression()"
      ]
     },
     "execution_count": 18,
     "metadata": {},
     "output_type": "execute_result"
    }
   ],
   "source": [
    "linreg=LinearRegression()\n",
    "x=np.array(x).reshape(-1,1) #Data tahun dimasukkan kedalam ordo matrix n*1\n",
    "linreg.fit(x, y)"
   ]
  },
  {
   "cell_type": "code",
   "execution_count": 19,
   "metadata": {},
   "outputs": [],
   "source": [
    " #Membuat data tahun baru yaitu tahun 2022\n",
    "Gold_2022=np.array(2022).reshape(-1,1)\n",
    "pred_ipm=linreg.predict(Gold_2022)"
   ]
  },
  {
   "cell_type": "code",
   "execution_count": 20,
   "metadata": {},
   "outputs": [
    {
     "name": "stdout",
     "output_type": "stream",
     "text": [
      "\n",
      "Prediksi rata-rata Harga Emas tahun 2022 =\n",
      " 1745.584473304465\n"
     ]
    }
   ],
   "source": [
    "#melakukan prediksi\n",
    "print('\\nPrediksi rata-rata Harga Emas tahun 2022 =\\n', pred_ipm.item())"
   ]
  },
  {
   "cell_type": "code",
   "execution_count": 21,
   "metadata": {},
   "outputs": [
    {
     "data": {
      "image/png": "[encoded data removed]",
      "text/plain": [
       "<Figure size 432x288 with 1 Axes>"
      ]
     },
     "metadata": {
      "needs_background": "light"
     },
     "output_type": "display_data"
    }
   ],
   "source": [
    "#visualisasi hasil regresi linear\n",
    "plt.scatter(x, y)\n",
    "plt.plot(x, y)\n",
    "plt.xlabel('Tahun')\n",
    "plt.ylabel('Rata-Rata Harga Emas')\n",
    "plt.scatter(Gold_2022, pred_ipm, c='red')\n",
    "pred_y=linreg.predict(x)\n",
    "plt.plot(x, pred_y)\n",
    "plt.show()"
   ]
  },
  {
   "cell_type": "code",
   "execution_count": 24,
   "metadata": {},
   "outputs": [
    {
     "name": "stdout",
     "output_type": "stream",
     "text": [
      "MSE =  42465.96491878395\n"
     ]
    }
   ],
   "source": [
    "MSE=mean_squared_error(y,pred_y)\n",
    "print('MSE = ', MSE)"
   ]
  },
  {
   "cell_type": "markdown",
   "metadata": {},
   "source": [
    "Penjelasan Hasil Regresi Linier Sederhana\n",
    "Banyak sekali indikator rangkuman hasil olah data akan tetapi yang paling banyak digunakan adalah indikator MSE (Mean Squared Error) dan MAPE (Mean Absolute Percentage Error)\n",
    "Diantara 2 indikator di atas indikator MAPE yang paling mudah interpretasinya yaitu sebagai berikut\n",
    "Terlihat bahwa hasil output dari MAPE adalah 0.139xxx yang dimana hasil dari output tersebut cukup dikali 100% untuk mengetahui berapakah tingkat persentase kesalahan dari ke-akuratan peramalan menggunakan regresi linier, jadi hasil tingkat persentase kesalahannya adalah\n",
    " 0.139xxx * 100% = 13.9xxx% \n",
    "Terbukti bahwa hasil tingkat persentase kesalahan dari peramalan menggunakan regresi linier adalah sebesar 13.9%\n",
    "lebih baik jika hasil tingkat persentase kesalahan kurang dari 10%\n",
    "\n",
    "============================================================================================================="
   ]
  },
  {
   "cell_type": "markdown",
   "metadata": {},
   "source": [
    "Data Outlier\n",
    "Data Outlier adalah data pengamatan yang menyimpang dari rata-rata data pengamatan yang lain"
   ]
  },
  {
   "cell_type": "code",
   "execution_count": 25,
   "metadata": {},
   "outputs": [],
   "source": [
    "##Mengambil 2 kolom dari data yang diolah untuk mencari outlier dari volatility\n",
    "dataIso = data[['Date','Volatility']] "
   ]
  },
  {
   "cell_type": "code",
   "execution_count": 26,
   "metadata": {},
   "outputs": [],
   "source": [
    "clf = IsolationForest(contamination=0.2) #Contamination adalah seberapa besar tingkat toleransi data yang menyimpang\n",
    "pred = clf.fit_predict(dataIso)"
   ]
  },
  {
   "cell_type": "code",
   "execution_count": 27,
   "metadata": {},
   "outputs": [
    {
     "name": "stderr",
     "output_type": "stream",
     "text": [
      "<ipython-input-27-adb0f77f206e>:1: SettingWithCopyWarning: \n",
      "A value is trying to be set on a copy of a slice from a DataFrame.\n",
      "Try using .loc[row_indexer,col_indexer] = value instead\n",
      "\n",
      "See the caveats in the documentation: https://pandas.pydata.org/pandas-docs/stable/user_guide/indexing.html#returning-a-view-versus-a-copy\n",
      "  dataIso['Outlier']=pred.reshape(-1,1) #Data outlier dimasukkan kedalam ordo matrix n*1\n"
     ]
    }
   ],
   "source": [
    "dataIso['Outlier']=pred.reshape(-1,1) #Data outlier dimasukkan kedalam ordo matrix n*1"
   ]
  },
  {
   "cell_type": "code",
   "execution_count": 28,
   "metadata": {},
   "outputs": [
    {
     "name": "stdout",
     "output_type": "stream",
     "text": [
      "     Date  Volatility  Outlier\n",
      "0    2021         1.9        1\n",
      "1    2021         1.5        1\n",
      "2    2021        -3.4       -1\n",
      "3    2021         0.3        1\n",
      "4    2021         2.3        1\n",
      "..    ...         ...      ...\n",
      "174  2007        -2.9       -1\n",
      "175  2007         2.6        1\n",
      "176  2007        -1.0        1\n",
      "177  2007         2.7        1\n",
      "178  2007         2.6        1\n",
      "\n",
      "[179 rows x 3 columns]\n"
     ]
    }
   ],
   "source": [
    "print(dataIso)"
   ]
  },
  {
   "cell_type": "markdown",
   "metadata": {},
   "source": [
    "Data yang termasuk outlier memiliki value -1"
   ]
  },
  {
   "cell_type": "code",
   "execution_count": 29,
   "metadata": {},
   "outputs": [
    {
     "name": "stdout",
     "output_type": "stream",
     "text": [
      "Data yang termasuk outlier:\n",
      "  13.6    2\n",
      " 8.3     2\n",
      "-12.1    1\n",
      "-18.0    1\n",
      "-7.2     1\n",
      "-2.9     1\n",
      "-10.3    1\n",
      "-2.0     1\n",
      " 10.5    1\n",
      "-7.3     1\n",
      "-11.4    1\n",
      " 0.9     1\n",
      "-4.2     1\n",
      " 11.0    1\n",
      " 7.0     1\n",
      " 10.0    1\n",
      "-6.5     1\n",
      " 9.9     1\n",
      "-5.1     1\n",
      " 10.4    1\n",
      "-2.7     1\n",
      " 6.6     1\n",
      "-9.3     1\n",
      " 7.2     1\n",
      " 13.9    1\n",
      " 12.3    1\n",
      "-3.4     1\n",
      " 7.7     1\n",
      "-7.7     1\n",
      " 6.7     1\n",
      "-5.8     1\n",
      " 9.6     1\n",
      " 3.1     1\n",
      "-7.0     1\n",
      "Name: Volatility, dtype: int64\n"
     ]
    }
   ],
   "source": [
    "dataOutlier = dataIso['Volatility'].loc[dataIso['Outlier']==-1]\n",
    "print('Data yang termasuk outlier:\\n', dataOutlier.value_counts())"
   ]
  },
  {
   "cell_type": "code",
   "execution_count": 30,
   "metadata": {},
   "outputs": [
    {
     "name": "stdout",
     "output_type": "stream",
     "text": [
      "Data yang tidak termasuk outlier:\n",
      " 2.6    5\n",
      "0.4    5\n",
      "3.7    4\n",
      "1.5    3\n",
      "2.8    3\n",
      "      ..\n",
      "0.3    1\n",
      "1.9    1\n",
      "3.1    1\n",
      "0.2    1\n",
      "1.1    1\n",
      "Name: Volatility, Length: 89, dtype: int64\n"
     ]
    }
   ],
   "source": [
    "dataNoOutlier = dataIso['Volatility'].loc[dataIso['Outlier']==1]\n",
    "print('Data yang tidak termasuk outlier:\\n', dataNoOutlier.value_counts())"
   ]
  },
  {
   "cell_type": "code",
   "execution_count": 31,
   "metadata": {},
   "outputs": [
    {
     "data": {
      "text/plain": [
       "Text(0.5, 1.0, 'Outlier Volatility Emas')"
      ]
     },
     "execution_count": 31,
     "metadata": {},
     "output_type": "execute_result"
    },
    {
     "data": {
      "image/png": "[encoded data removed]",
      "text/plain": [
       "<Figure size 1728x1728 with 1 Axes>"
      ]
     },
     "metadata": {
      "needs_background": "light"
     },
     "output_type": "display_data"
    }
   ],
   "source": [
    "#visualisasi data\n",
    "plt.figure(figsize=(24,24))\n",
    "plt.scatter(dataIso['Date'],dataIso['Volatility'])\n",
    "plt.title('Outlier Volatility Emas', fontsize=24)"
   ]
  },
  {
   "cell_type": "code",
   "execution_count": null,
   "metadata": {},
   "outputs": [],
   "source": []
  }
 ],
 "metadata": {
  "kernelspec": {
   "display_name": "Python 3",
   "language": "python",
   "name": "python3"
  },
  "language_info": {
   "codemirror_mode": {
    "name": "ipython",
    "version": 3
   },
   "file_extension": ".py",
   "mimetype": "text/x-python",
   "name": "python",
   "nbconvert_exporter": "python",
   "pygments_lexer": "ipython3",
   "version": "3.8.3"
  }
 },
 "nbformat": 4,
 "nbformat_minor": 4
}
