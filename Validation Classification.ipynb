{
 "cells": [
  {
   "cell_type": "code",
   "execution_count": 11,
   "metadata": {},
   "outputs": [],
   "source": [
    "import pandas as pd\n",
    "from sklearn.model_selection import train_test_split\n",
    "import numpy as np\n",
    "from sklearn.neighbors import KNeighborsClassifier"
   ]
  },
  {
   "cell_type": "code",
   "execution_count": 12,
   "metadata": {},
   "outputs": [],
   "source": [
    "dataset = pd.read_csv('D:/Menu_Ohkaeri.csv',sep=\";\") #Sesuaikan dengan directory file masing-masing\n",
    "data = dataset[['Pelanggan', 'Karyawan', 'Stakeholder', 'Kelas']]"
   ]
  },
  {
   "cell_type": "code",
   "execution_count": 13,
   "metadata": {},
   "outputs": [],
   "source": [
    "train, test = train_test_split(data, test_size=0.2)"
   ]
  },
  {
   "cell_type": "code",
   "execution_count": 14,
   "metadata": {},
   "outputs": [],
   "source": [
    "train_data=train[['Pelanggan','Karyawan','Stakeholder']]\n",
    "train_label=train[['Kelas']]\n",
    "test_data=test[['Pelanggan','Karyawan','Stakeholder']]\n",
    "test_label=test[['Kelas']]"
   ]
  },
  {
   "cell_type": "markdown",
   "metadata": {},
   "source": [
    "Just in case jika hasil data yang dilatih terdapat nilai null maka harus dibuang"
   ]
  },
  {
   "cell_type": "code",
   "execution_count": 15,
   "metadata": {},
   "outputs": [],
   "source": [
    "pos_null = train_data.index[train_data.isnull().any(axis=1)].tolist()\n",
    "train_data = train_data.drop(pos_null)\n",
    "train_label = train_label.drop(pos_null)"
   ]
  },
  {
   "cell_type": "code",
   "execution_count": 16,
   "metadata": {},
   "outputs": [],
   "source": [
    "pos_null = test_data.index[test_data.isnull().any(axis=1)].tolist()\n",
    "test_data = test_data.drop(pos_null)\n",
    "test_label = test_label.drop(pos_null)"
   ]
  },
  {
   "cell_type": "markdown",
   "metadata": {},
   "source": [
    "Menentukan nilai minimum dan maximum data yang dilatih"
   ]
  },
  {
   "cell_type": "code",
   "execution_count": 17,
   "metadata": {},
   "outputs": [],
   "source": [
    "newmin=0\n",
    "newmax=1\n",
    "mindata=train_data.min()\n",
    "maxdata=train_data.max()\n",
    "train_data = ((train_data-mindata) * (newmax-newmin) / (maxdata-mindata)) + newmin\n",
    "test_data = ((test_data-mindata) * (newmax-newmin) / (maxdata-mindata)) + newmin"
   ]
  },
  {
   "cell_type": "markdown",
   "metadata": {},
   "source": [
    "Menggunakan Fungsi KNN Klasifikasi"
   ]
  },
  {
   "cell_type": "code",
   "execution_count": 21,
   "metadata": {},
   "outputs": [],
   "source": [
    "kNN=KNeighborsClassifier(n_neighbors=3, weights='distance')\n",
    "kNN.fit(train_data, np.ravel(train_label))\n",
    "class_result=kNN.predict(test_data)"
   ]
  },
  {
   "cell_type": "code",
   "execution_count": 22,
   "metadata": {},
   "outputs": [
    {
     "name": "stdout",
     "output_type": "stream",
     "text": [
      "Hasil klasifikasi\n",
      " ['Sedang' 'Tinggi' 'Sedang']\n"
     ]
    }
   ],
   "source": [
    "print('Hasil klasifikasi\\n', class_result)"
   ]
  },
  {
   "cell_type": "markdown",
   "metadata": {},
   "source": [
    "Mendeteksi data error yang diuji"
   ]
  },
  {
   "cell_type": "code",
   "execution_count": 23,
   "metadata": {},
   "outputs": [],
   "source": [
    "error=test_label.loc[:]\n",
    "error['Class_Result']=class_result\n",
    "error['Output']=(error['Kelas'] == error['Class_Result'])"
   ]
  },
  {
   "cell_type": "code",
   "execution_count": 24,
   "metadata": {},
   "outputs": [
    {
     "name": "stdout",
     "output_type": "stream",
     "text": [
      "\n",
      "\n",
      "Perbandingan dengan class label asli:\n",
      "      Kelas Class_Result  Output\n",
      "12  Sedang       Sedang    True\n",
      "48  Sedang       Tinggi   False\n",
      "8   Sedang       Sedang    True\n"
     ]
    }
   ],
   "source": [
    "print('\\n\\nPerbandingan dengan class label asli:\\n', error)"
   ]
  },
  {
   "cell_type": "code",
   "execution_count": 25,
   "metadata": {},
   "outputs": [],
   "source": [
    "precision_ratio=kNN.score(test_data, test_label)\n",
    "error_ratio=1-precision_ratio"
   ]
  },
  {
   "cell_type": "code",
   "execution_count": 26,
   "metadata": {},
   "outputs": [
    {
     "name": "stdout",
     "output_type": "stream",
     "text": [
      "\n",
      "\n",
      "Error ratio =  0.33333333333333337\n"
     ]
    }
   ],
   "source": [
    "print('\\n\\nError ratio = ', error_ratio)"
   ]
  },
  {
   "cell_type": "code",
   "execution_count": null,
   "metadata": {},
   "outputs": [],
   "source": []
  }
 ],
 "metadata": {
  "kernelspec": {
   "display_name": "Python 3 (ipykernel)",
   "language": "python",
   "name": "python3"
  },
  "language_info": {
   "codemirror_mode": {
    "name": "ipython",
    "version": 3
   },
   "file_extension": ".py",
   "mimetype": "text/x-python",
   "name": "python",
   "nbconvert_exporter": "python",
   "pygments_lexer": "ipython3",
   "version": "3.8.3"
  }
 },
 "nbformat": 4,
 "nbformat_minor": 4
}
