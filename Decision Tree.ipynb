{
 "cells": [
  {
   "cell_type": "code",
   "execution_count": 1,
   "metadata": {},
   "outputs": [],
   "source": [
    "import pandas as pd\n",
    "import numpy as np\n",
    "from sklearn.model_selection import train_test_split\n",
    "from sklearn.neighbors import KNeighborsClassifier\n",
    "from sklearn import tree\n",
    "from sklearn.tree import DecisionTreeClassifier"
   ]
  },
  {
   "cell_type": "code",
   "execution_count": 2,
   "metadata": {},
   "outputs": [],
   "source": [
    "dataset = pd.read_csv('D:/Menu_Ohkaeri.csv',sep=\";\") #Sesuaikan dengan directory file masing-masing\n",
    "data = dataset[['Pelanggan', 'Karyawan', 'Stakeholder', 'Kelas']]"
   ]
  },
  {
   "cell_type": "markdown",
   "metadata": {},
   "source": [
    "Memisahkan data yang diuji dan data yang dilatih"
   ]
  },
  {
   "cell_type": "code",
   "execution_count": 3,
   "metadata": {},
   "outputs": [],
   "source": [
    "train, test = train_test_split(data, test_size=0.2)"
   ]
  },
  {
   "cell_type": "code",
   "execution_count": 4,
   "metadata": {},
   "outputs": [],
   "source": [
    "train_data=train[['Pelanggan','Karyawan','Stakeholder']]\n",
    "train_label=train[['Kelas']]\n",
    "test_data=test[['Pelanggan','Karyawan','Stakeholder']]\n",
    "test_label=test[['Kelas']]"
   ]
  },
  {
   "cell_type": "markdown",
   "metadata": {},
   "source": [
    "Just in case jika hasil data yang dilatih terdapat nilai null maka harus dibuang"
   ]
  },
  {
   "cell_type": "code",
   "execution_count": 5,
   "metadata": {},
   "outputs": [],
   "source": [
    "pos_null = train_data.index[train_data.isnull().any(axis=1)].tolist()\n",
    "train_data = train_data.drop(pos_null)\n",
    "train_label = train_label.drop(pos_null)"
   ]
  },
  {
   "cell_type": "code",
   "execution_count": 6,
   "metadata": {},
   "outputs": [],
   "source": [
    "pos_null = test_data.index[test_data.isnull().any(axis=1)].tolist()\n",
    "test_data = test_data.drop(pos_null)\n",
    "test_label = test_label.drop(pos_null)"
   ]
  },
  {
   "cell_type": "code",
   "execution_count": 7,
   "metadata": {},
   "outputs": [
    {
     "name": "stdout",
     "output_type": "stream",
     "text": [
      "\n",
      "Test Data:\n",
      "     Pelanggan  Karyawan  Stakeholder\n",
      "68          3       7.0         10.0\n",
      "28          7       9.0          8.0\n",
      "48          6       4.0          5.0\n",
      "76          1       2.0          5.0\n"
     ]
    }
   ],
   "source": [
    "print('\\nTest Data:\\n', test_data)"
   ]
  },
  {
   "cell_type": "code",
   "execution_count": 8,
   "metadata": {},
   "outputs": [
    {
     "data": {
      "text/plain": [
       "DecisionTreeClassifier(criterion='entropy', max_depth=3)"
      ]
     },
     "execution_count": 8,
     "metadata": {},
     "output_type": "execute_result"
    }
   ],
   "source": [
    "dtc=DecisionTreeClassifier(criterion='entropy', max_depth=3)\n",
    "dtc.fit(train_data, train_label)"
   ]
  },
  {
   "cell_type": "code",
   "execution_count": 9,
   "metadata": {},
   "outputs": [
    {
     "name": "stdout",
     "output_type": "stream",
     "text": [
      "\n",
      "Class = \n",
      " ['Sedang' 'Sedang' 'Sedang' 'Rendah']\n"
     ]
    }
   ],
   "source": [
    "class_result=dtc.predict(test_data)\n",
    "print('\\nClass = \\n', class_result)"
   ]
  },
  {
   "cell_type": "code",
   "execution_count": 10,
   "metadata": {},
   "outputs": [
    {
     "name": "stdout",
     "output_type": "stream",
     "text": [
      "\n",
      "Error ratio =  50.0 %\n"
     ]
    }
   ],
   "source": [
    "acc=dtc.score(test_data, test_label)\n",
    "err=round((1-acc)*100, 2)\n",
    "print('\\nError ratio = ', err, '%')"
   ]
  },
  {
   "cell_type": "code",
   "execution_count": null,
   "metadata": {},
   "outputs": [],
   "source": []
  }
 ],
 "metadata": {
  "kernelspec": {
   "display_name": "Python 3 (ipykernel)",
   "language": "python",
   "name": "python3"
  },
  "language_info": {
   "codemirror_mode": {
    "name": "ipython",
    "version": 3
   },
   "file_extension": ".py",
   "mimetype": "text/x-python",
   "name": "python",
   "nbconvert_exporter": "python",
   "pygments_lexer": "ipython3",
   "version": "3.8.3"
  }
 },
 "nbformat": 4,
 "nbformat_minor": 4
}
