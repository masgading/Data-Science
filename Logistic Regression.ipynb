{
 "cells": [
  {
   "cell_type": "code",
   "execution_count": 1,
   "metadata": {},
   "outputs": [],
   "source": [
    "#import library\n",
    "import pandas as pd\n",
    "from sklearn.model_selection import train_test_split\n",
    "from sklearn.linear_model import LogisticRegression\n",
    "from sklearn import metrics\n",
    "import seaborn as sn\n",
    "import matplotlib.pyplot as plt"
   ]
  },
  {
   "cell_type": "markdown",
   "metadata": {},
   "source": [
    "Regresi Logistik\n",
    "Regresi logistik adalah sebuah pendekatan untuk membuat model prediksi seperti halnya regresi linear atau yang biasa disebut dengan istilah Ordinary Least Squares (OLS) regression. Perbedaannya adalah pada regresi logistik, peneliti memprediksi variabel terikat yang berskala dikotomi. Skala dikotomi yang dimaksud adalah skala data nominal dengan dua kategori, misalnya: Ya dan Tidak, Baik dan Buruk atau Tinggi dan Rendah.\n",
    "\n",
    "Penjelasan Dataset\n",
    "Dataset kali ini adalah data dari suatu Kafe X yang dimana berupa penilaian suatu menu dari pelanggan, karyawan, dan petinggi untuk diketahui apakah item tersebut dirasa perlu di-bundle atau tidak dengan makanan lain?\n",
    "1 = Tidak perlu bundling/paket\n",
    "0 = perlu bundling/paket\n",
    "\n",
    "Regresi logistik merupakan salah satu jenis regresi yang menghubungkan antara satu atau beberapa variabel independen (variabel bebas) dengan variabel dependen yang berupa kategori; biasanya 0 dan 1. \n",
    "jenis variabel dependen berupa kategori inilah yang membedakan regresi logistik dengan regresi berganda atau regresi linear lainnya."
   ]
  },
  {
   "cell_type": "code",
   "execution_count": 2,
   "metadata": {},
   "outputs": [],
   "source": [
    "#load buat data frame\n",
    "data = pd.read_csv(\"C:/Users/Sectio/Downloads/Order_Bundle_WP.csv\", sep=\";\") #Sesuaikan dengan directory file masing-masing"
   ]
  },
  {
   "cell_type": "code",
   "execution_count": 3,
   "metadata": {},
   "outputs": [
    {
     "data": {
      "text/html": [
       "<div>\n",
       "<style scoped>\n",
       "    .dataframe tbody tr th:only-of-type {\n",
       "        vertical-align: middle;\n",
       "    }\n",
       "\n",
       "    .dataframe tbody tr th {\n",
       "        vertical-align: top;\n",
       "    }\n",
       "\n",
       "    .dataframe thead th {\n",
       "        text-align: right;\n",
       "    }\n",
       "</style>\n",
       "<table border=\"1\" class=\"dataframe\">\n",
       "  <thead>\n",
       "    <tr style=\"text-align: right;\">\n",
       "      <th></th>\n",
       "      <th>Id</th>\n",
       "      <th>Penilaian_dari_pelanggan</th>\n",
       "      <th>Penilaian_dari_karyawan</th>\n",
       "      <th>Penilaian_dari_petinggi</th>\n",
       "      <th>Perlu_dipaket?</th>\n",
       "    </tr>\n",
       "  </thead>\n",
       "  <tbody>\n",
       "    <tr>\n",
       "      <th>0</th>\n",
       "      <td>1</td>\n",
       "      <td>880</td>\n",
       "      <td>3</td>\n",
       "      <td>3</td>\n",
       "      <td>1</td>\n",
       "    </tr>\n",
       "    <tr>\n",
       "      <th>1</th>\n",
       "      <td>2</td>\n",
       "      <td>750</td>\n",
       "      <td>1</td>\n",
       "      <td>3</td>\n",
       "      <td>1</td>\n",
       "    </tr>\n",
       "    <tr>\n",
       "      <th>2</th>\n",
       "      <td>3</td>\n",
       "      <td>700</td>\n",
       "      <td>1</td>\n",
       "      <td>1</td>\n",
       "      <td>1</td>\n",
       "    </tr>\n",
       "    <tr>\n",
       "      <th>3</th>\n",
       "      <td>4</td>\n",
       "      <td>751</td>\n",
       "      <td>1</td>\n",
       "      <td>2</td>\n",
       "      <td>1</td>\n",
       "    </tr>\n",
       "  </tbody>\n",
       "</table>\n",
       "</div>"
      ],
      "text/plain": [
       "   Id  Penilaian_dari_pelanggan  Penilaian_dari_karyawan  \\\n",
       "0   1                       880                        3   \n",
       "1   2                       750                        1   \n",
       "2   3                       700                        1   \n",
       "3   4                       751                        1   \n",
       "\n",
       "   Penilaian_dari_petinggi  Perlu_dipaket?  \n",
       "0                        3               1  \n",
       "1                        3               1  \n",
       "2                        1               1  \n",
       "3                        2               1  "
      ]
     },
     "execution_count": 3,
     "metadata": {},
     "output_type": "execute_result"
    }
   ],
   "source": [
    "#menampilkan 4 record data\n",
    "data.head(4)"
   ]
  },
  {
   "cell_type": "code",
   "execution_count": 4,
   "metadata": {},
   "outputs": [
    {
     "data": {
      "text/plain": [
       "Id                          int64\n",
       "Penilaian_dari_pelanggan    int64\n",
       "Penilaian_dari_karyawan     int64\n",
       "Penilaian_dari_petinggi     int64\n",
       "Perlu_dipaket?              int64\n",
       "dtype: object"
      ]
     },
     "execution_count": 4,
     "metadata": {},
     "output_type": "execute_result"
    }
   ],
   "source": [
    "#lihat tipe data pada tiap-tiap kolom\n",
    "data.dtypes"
   ]
  },
  {
   "cell_type": "code",
   "execution_count": 5,
   "metadata": {},
   "outputs": [
    {
     "data": {
      "text/html": [
       "<div>\n",
       "<style scoped>\n",
       "    .dataframe tbody tr th:only-of-type {\n",
       "        vertical-align: middle;\n",
       "    }\n",
       "\n",
       "    .dataframe tbody tr th {\n",
       "        vertical-align: top;\n",
       "    }\n",
       "\n",
       "    .dataframe thead th {\n",
       "        text-align: right;\n",
       "    }\n",
       "</style>\n",
       "<table border=\"1\" class=\"dataframe\">\n",
       "  <thead>\n",
       "    <tr style=\"text-align: right;\">\n",
       "      <th></th>\n",
       "      <th>Id</th>\n",
       "      <th>Penilaian_dari_pelanggan</th>\n",
       "      <th>Penilaian_dari_karyawan</th>\n",
       "      <th>Penilaian_dari_petinggi</th>\n",
       "      <th>Perlu_dipaket?</th>\n",
       "    </tr>\n",
       "  </thead>\n",
       "  <tbody>\n",
       "    <tr>\n",
       "      <th>count</th>\n",
       "      <td>30.000000</td>\n",
       "      <td>30.000000</td>\n",
       "      <td>30.000000</td>\n",
       "      <td>30.000000</td>\n",
       "      <td>30.000000</td>\n",
       "    </tr>\n",
       "    <tr>\n",
       "      <th>mean</th>\n",
       "      <td>15.500000</td>\n",
       "      <td>671.400000</td>\n",
       "      <td>2.733333</td>\n",
       "      <td>2.166667</td>\n",
       "      <td>0.700000</td>\n",
       "    </tr>\n",
       "    <tr>\n",
       "      <th>std</th>\n",
       "      <td>8.803408</td>\n",
       "      <td>99.421291</td>\n",
       "      <td>1.229896</td>\n",
       "      <td>0.833908</td>\n",
       "      <td>0.466092</td>\n",
       "    </tr>\n",
       "    <tr>\n",
       "      <th>min</th>\n",
       "      <td>1.000000</td>\n",
       "      <td>504.000000</td>\n",
       "      <td>1.000000</td>\n",
       "      <td>1.000000</td>\n",
       "      <td>0.000000</td>\n",
       "    </tr>\n",
       "    <tr>\n",
       "      <th>25%</th>\n",
       "      <td>8.250000</td>\n",
       "      <td>595.000000</td>\n",
       "      <td>1.250000</td>\n",
       "      <td>1.250000</td>\n",
       "      <td>0.000000</td>\n",
       "    </tr>\n",
       "    <tr>\n",
       "      <th>50%</th>\n",
       "      <td>15.500000</td>\n",
       "      <td>691.000000</td>\n",
       "      <td>3.000000</td>\n",
       "      <td>2.000000</td>\n",
       "      <td>1.000000</td>\n",
       "    </tr>\n",
       "    <tr>\n",
       "      <th>75%</th>\n",
       "      <td>22.750000</td>\n",
       "      <td>745.500000</td>\n",
       "      <td>4.000000</td>\n",
       "      <td>3.000000</td>\n",
       "      <td>1.000000</td>\n",
       "    </tr>\n",
       "    <tr>\n",
       "      <th>max</th>\n",
       "      <td>30.000000</td>\n",
       "      <td>880.000000</td>\n",
       "      <td>4.000000</td>\n",
       "      <td>3.000000</td>\n",
       "      <td>1.000000</td>\n",
       "    </tr>\n",
       "  </tbody>\n",
       "</table>\n",
       "</div>"
      ],
      "text/plain": [
       "              Id  Penilaian_dari_pelanggan  Penilaian_dari_karyawan  \\\n",
       "count  30.000000                 30.000000                30.000000   \n",
       "mean   15.500000                671.400000                 2.733333   \n",
       "std     8.803408                 99.421291                 1.229896   \n",
       "min     1.000000                504.000000                 1.000000   \n",
       "25%     8.250000                595.000000                 1.250000   \n",
       "50%    15.500000                691.000000                 3.000000   \n",
       "75%    22.750000                745.500000                 4.000000   \n",
       "max    30.000000                880.000000                 4.000000   \n",
       "\n",
       "       Penilaian_dari_petinggi  Perlu_dipaket?  \n",
       "count                30.000000       30.000000  \n",
       "mean                  2.166667        0.700000  \n",
       "std                   0.833908        0.466092  \n",
       "min                   1.000000        0.000000  \n",
       "25%                   1.250000        0.000000  \n",
       "50%                   2.000000        1.000000  \n",
       "75%                   3.000000        1.000000  \n",
       "max                   3.000000        1.000000  "
      ]
     },
     "execution_count": 5,
     "metadata": {},
     "output_type": "execute_result"
    }
   ],
   "source": [
    "#mendskripsikan tiap tiap kolom\n",
    "data.describe()"
   ]
  },
  {
   "cell_type": "code",
   "execution_count": 6,
   "metadata": {},
   "outputs": [
    {
     "data": {
      "text/plain": [
       "Id                          0\n",
       "Penilaian_dari_pelanggan    0\n",
       "Penilaian_dari_karyawan     0\n",
       "Penilaian_dari_petinggi     0\n",
       "Perlu_dipaket?              0\n",
       "dtype: int64"
      ]
     },
     "execution_count": 6,
     "metadata": {},
     "output_type": "execute_result"
    }
   ],
   "source": [
    "data.isnull().sum()"
   ]
  },
  {
   "cell_type": "markdown",
   "metadata": {},
   "source": [
    "Pengolahan Regresi Logistik"
   ]
  },
  {
   "cell_type": "code",
   "execution_count": 7,
   "metadata": {},
   "outputs": [],
   "source": [
    "X = data[['Penilaian_dari_pelanggan','Penilaian_dari_karyawan','Penilaian_dari_petinggi']]\n",
    "y = data['Perlu_dipaket?']"
   ]
  },
  {
   "cell_type": "markdown",
   "metadata": {},
   "source": [
    "Memisahkan antara data yang diuji dengan data yang dilatih\n",
    "Terlihat bahwa test_size = 0.3 yang artinya data yang diuji sebanyak 30% dari total data\n",
    "contoh:\n",
    "Total data di Order_Bundle_WP sebanyak 30 baris, maka data yang diuji adalah 30*30% = 9 data yang diuji"
   ]
  },
  {
   "cell_type": "code",
   "execution_count": 8,
   "metadata": {},
   "outputs": [],
   "source": [
    "X_train, X_test, y_train, y_test = train_test_split(X, y, test_size = 0.3, random_state = 0)"
   ]
  },
  {
   "cell_type": "code",
   "execution_count": 9,
   "metadata": {},
   "outputs": [],
   "source": [
    "logistic_regression = LogisticRegression()\n",
    "logistic_regression.fit(X_train, y_train)\n",
    "y_pred = logistic_regression.predict(X_test)"
   ]
  },
  {
   "cell_type": "markdown",
   "metadata": {},
   "source": [
    "Confusion Matrix\n",
    "Terlihat bahwa hasil dari confusion matrix\n",
    "Prediksi BENAR\n",
    "Nilai yang sebenarnya 0 dan prediksi 0 sebanyak 1 buah\n",
    "Nilai yang sebenarnya 1 dan prediksi 1 sebanyak 7 buah\n",
    "Prediksi SALAH\n",
    "Nilai yang sebenarnya 0 dan prediksi 1 sebanyak 1 buah\n",
    "Nilai yang sebenarnya 1 dan prediksi 0 sebanyak 0 buah"
   ]
  },
  {
   "cell_type": "code",
   "execution_count": 10,
   "metadata": {},
   "outputs": [
    {
     "data": {
      "text/plain": [
       "<matplotlib.axes._subplots.AxesSubplot at 0x2664589d160>"
      ]
     },
     "execution_count": 10,
     "metadata": {},
     "output_type": "execute_result"
    },
    {
     "data": {
      "image/png": "[encoded data removed]",
      "text/plain": [
       "<Figure size 432x288 with 2 Axes>"
      ]
     },
     "metadata": {
      "needs_background": "light"
     },
     "output_type": "display_data"
    }
   ],
   "source": [
    "confusion_matrix = pd.crosstab(y_test, y_pred, rownames=['Actual'], colnames=['Predicted'])\n",
    "sn.heatmap(confusion_matrix, annot=True)"
   ]
  },
  {
   "cell_type": "markdown",
   "metadata": {},
   "source": [
    "Akurasi\n",
    "Terlihat bahwa akurasinya adalah 0.88, cari persentase dari hasil akurasi dengan dikalikan 100% maka hasilnya adalah 88%"
   ]
  },
  {
   "cell_type": "code",
   "execution_count": 11,
   "metadata": {},
   "outputs": [
    {
     "name": "stdout",
     "output_type": "stream",
     "text": [
      "Accuracy:  0.8888888888888888\n"
     ]
    }
   ],
   "source": [
    "print('Accuracy: ', metrics.accuracy_score(y_test, y_pred))\n",
    "plt.show()"
   ]
  },
  {
   "cell_type": "code",
   "execution_count": 12,
   "metadata": {},
   "outputs": [
    {
     "name": "stdout",
     "output_type": "stream",
     "text": [
      "    Penilaian_dari_pelanggan  Penilaian_dari_karyawan  Penilaian_dari_petinggi\n",
      "2                        700                        1                        1\n",
      "28                       796                        4                        2\n",
      "13                       649                        4                        3\n",
      "10                       632                        3                        1\n",
      "26                       627                        4                        1\n",
      "24                       695                        3                        3\n",
      "27                       770                        4                        2\n",
      "11                       800                        2                        1\n",
      "17                       536                        3                        3\n"
     ]
    }
   ],
   "source": [
    "print (X_test)"
   ]
  },
  {
   "cell_type": "code",
   "execution_count": 13,
   "metadata": {},
   "outputs": [
    {
     "name": "stdout",
     "output_type": "stream",
     "text": [
      "[1 1 1 1 1 1 1 1 0]\n"
     ]
    }
   ],
   "source": [
    "print (y_pred)"
   ]
  },
  {
   "cell_type": "code",
   "execution_count": 14,
   "metadata": {},
   "outputs": [],
   "source": [
    "new_predict = {'Penilaian_dari_pelanggan': [720, 600],\n",
    "               'Penilaian_dari_karyawan':[2, 4],\n",
    "               'Penilaian_dari_petinggi':[1, 3]\n",
    "                  }\n",
    "\n",
    "df2 = pd.DataFrame(new_predict,columns= ['Penilaian_dari_pelanggan','Penilaian_dari_karyawan','Penilaian_dari_petinggi'])"
   ]
  },
  {
   "cell_type": "code",
   "execution_count": 15,
   "metadata": {},
   "outputs": [],
   "source": [
    "y_pred=logistic_regression.predict(df2)"
   ]
  },
  {
   "cell_type": "code",
   "execution_count": 20,
   "metadata": {},
   "outputs": [
    {
     "name": "stdout",
     "output_type": "stream",
     "text": [
      "   Penilaian_dari_pelanggan  Penilaian_dari_karyawan  Penilaian_dari_petinggi\n",
      "0                       720                        2                        1\n",
      "1                       600                        4                        3\n"
     ]
    }
   ],
   "source": [
    "print (df2)"
   ]
  },
  {
   "cell_type": "code",
   "execution_count": 17,
   "metadata": {},
   "outputs": [
    {
     "name": "stdout",
     "output_type": "stream",
     "text": [
      "[1 1]\n"
     ]
    }
   ],
   "source": [
    "print (y_pred)"
   ]
  },
  {
   "cell_type": "markdown",
   "metadata": {},
   "source": [
    "Latihan 2"
   ]
  },
  {
   "cell_type": "code",
   "execution_count": 18,
   "metadata": {},
   "outputs": [],
   "source": [
    "new_predict2 = {'Penilaian_dari_pelanggan': [560, 660, 700, 600],\n",
    "               'Penilaian_dari_karyawan':[2, 2, 4, 1],\n",
    "               'Penilaian_dari_petinggi':[1, 2, 2, 1]\n",
    "                  }\n",
    "\n",
    "df3 = pd.DataFrame(new_predict2,columns= ['Penilaian_dari_pelanggan','Penilaian_dari_karyawan','Penilaian_dari_petinggi'])"
   ]
  },
  {
   "cell_type": "code",
   "execution_count": 22,
   "metadata": {},
   "outputs": [],
   "source": [
    "y_pred=logistic_regression.predict(df3)"
   ]
  },
  {
   "cell_type": "code",
   "execution_count": 23,
   "metadata": {},
   "outputs": [
    {
     "name": "stdout",
     "output_type": "stream",
     "text": [
      "   Penilaian_dari_pelanggan  Penilaian_dari_karyawan  Penilaian_dari_petinggi\n",
      "0                       560                        2                        1\n",
      "1                       660                        2                        2\n",
      "2                       700                        4                        2\n",
      "3                       600                        1                        1\n"
     ]
    }
   ],
   "source": [
    "print (df3)"
   ]
  },
  {
   "cell_type": "code",
   "execution_count": 24,
   "metadata": {},
   "outputs": [
    {
     "name": "stdout",
     "output_type": "stream",
     "text": [
      "[0 1 1 0]\n"
     ]
    }
   ],
   "source": [
    "print (y_pred)"
   ]
  },
  {
   "cell_type": "code",
   "execution_count": null,
   "metadata": {},
   "outputs": [],
   "source": []
  }
 ],
 "metadata": {
  "kernelspec": {
   "display_name": "Python 3",
   "language": "python",
   "name": "python3"
  },
  "language_info": {
   "codemirror_mode": {
    "name": "ipython",
    "version": 3
   },
   "file_extension": ".py",
   "mimetype": "text/x-python",
   "name": "python",
   "nbconvert_exporter": "python",
   "pygments_lexer": "ipython3",
   "version": "3.8.3"
  }
 },
 "nbformat": 4,
 "nbformat_minor": 4
}
