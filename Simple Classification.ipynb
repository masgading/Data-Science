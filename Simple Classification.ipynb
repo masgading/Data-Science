{
 "cells": [
  {
   "cell_type": "markdown",
   "metadata": {},
   "source": [
    "Klasifikasi\n",
    "Klasifikasi merupakan teknik dalam data mining untuk mengelompokkan data berdasarkan keterikatan data terhadap data sampel.\n",
    "Diberikan kumpulan data (training set), Setiap data berisi sekumpulan atribut dan salah satu atributnya pasti mengandung unsur class.\n",
    "Tujuan\n",
    "Menemukan model atribut kelas sebagai fungsi dari nilai atribut/kolom lainnya"
   ]
  },
  {
   "cell_type": "code",
   "execution_count": 1,
   "metadata": {},
   "outputs": [],
   "source": [
    "import pandas as pd\n",
    "import numpy as np\n",
    "from sklearn.neighbors import KNeighborsClassifier"
   ]
  },
  {
   "cell_type": "code",
   "execution_count": 2,
   "metadata": {},
   "outputs": [],
   "source": [
    "dataset = pd.read_csv('D:/Menu_Ohkaeri.csv',sep=\";\") #Sesuaikan dengan directory file masing-masing\n",
    "data = dataset[['Pelanggan', 'Karyawan', 'Stakeholder', 'Kelas']]\n",
    "data=data.dropna()"
   ]
  },
  {
   "cell_type": "code",
   "execution_count": 3,
   "metadata": {},
   "outputs": [],
   "source": [
    "train_data=data[['Pelanggan', 'Karyawan','Stakeholder']]\n",
    "train_label=data[['Kelas']]"
   ]
  },
  {
   "cell_type": "code",
   "execution_count": 4,
   "metadata": {},
   "outputs": [],
   "source": [
    "kNN=KNeighborsClassifier(n_neighbors=3, weights='distance')"
   ]
  },
  {
   "cell_type": "markdown",
   "metadata": {},
   "source": [
    "Prediksi dengan menambah data baru\n",
    "Menambah data uji baru dengan value:\n",
    "Pelanggan: 6\n",
    "Karyawan: 4\n",
    "Stakeholder: 7"
   ]
  },
  {
   "cell_type": "code",
   "execution_count": 5,
   "metadata": {},
   "outputs": [],
   "source": [
    "test_data=[[6, 4, 7]]\n",
    "kNN.fit(train_data, np.ravel(train_label))\n",
    "class_result=kNN.predict(test_data)"
   ]
  },
  {
   "cell_type": "code",
   "execution_count": 6,
   "metadata": {},
   "outputs": [
    {
     "name": "stdout",
     "output_type": "stream",
     "text": [
      "Hasil klasifikasi =  Sedang\n"
     ]
    }
   ],
   "source": [
    "print('Hasil klasifikasi = ', class_result.item())"
   ]
  },
  {
   "cell_type": "raw",
   "metadata": {},
   "source": [
    "Interpretasi\n",
    "Hasil prediksi di atas terlihat seperti berikut\n",
    "\n",
    "Pelanggan\tKaryawan\tStakeholder\tKelas\n",
    "6\t         4\t           7\t    Sedang\n",
    "\n",
    "Jadi jika terdapat menu baru yang memiliki value dari Pelanggan: 6, Karyawan: 4, Stakeholder:7 termasuk ke dalam kelas sedang"
   ]
  },
  {
   "cell_type": "code",
   "execution_count": 9,
   "metadata": {},
   "outputs": [],
   "source": [
    "test_data1 = [[6,8,2]]\n",
    "kNN.fit(train_data, np.ravel(train_label))\n",
    "class_result=kNN.predict(test_data1)\n"
   ]
  },
  {
   "cell_type": "code",
   "execution_count": 10,
   "metadata": {},
   "outputs": [
    {
     "name": "stdout",
     "output_type": "stream",
     "text": [
      "Hasil klasifikasi =  Sedang\n"
     ]
    }
   ],
   "source": [
    "print('Hasil klasifikasi = ', class_result.item())"
   ]
  },
  {
   "cell_type": "code",
   "execution_count": 11,
   "metadata": {},
   "outputs": [],
   "source": [
    "test_data2 = [[8,8,9]]\n",
    "kNN.fit(train_data, np.ravel(train_label))\n",
    "class_result=kNN.predict(test_data2)\n"
   ]
  },
  {
   "cell_type": "code",
   "execution_count": 12,
   "metadata": {},
   "outputs": [
    {
     "name": "stdout",
     "output_type": "stream",
     "text": [
      "Hasil klasifikasi =  Sedang\n"
     ]
    }
   ],
   "source": [
    "print('Hasil klasifikasi = ', class_result.item())"
   ]
  },
  {
   "cell_type": "code",
   "execution_count": 13,
   "metadata": {},
   "outputs": [],
   "source": [
    "test_data3 = [[8,2,4]]\n",
    "kNN.fit(train_data, np.ravel(train_label))\n",
    "class_result=kNN.predict(test_data3)\n"
   ]
  },
  {
   "cell_type": "code",
   "execution_count": 14,
   "metadata": {},
   "outputs": [
    {
     "name": "stdout",
     "output_type": "stream",
     "text": [
      "Hasil klasifikasi =  Sedang\n"
     ]
    }
   ],
   "source": [
    "print('Hasil klasifikasi = ', class_result.item())"
   ]
  },
  {
   "cell_type": "code",
   "execution_count": 15,
   "metadata": {},
   "outputs": [],
   "source": [
    "test_data4 = [[1,4,7]]\n",
    "kNN.fit(train_data, np.ravel(train_label))\n",
    "class_result=kNN.predict(test_data4)"
   ]
  },
  {
   "cell_type": "code",
   "execution_count": 16,
   "metadata": {},
   "outputs": [
    {
     "name": "stdout",
     "output_type": "stream",
     "text": [
      "Hasil klasifikasi =  Rendah\n"
     ]
    }
   ],
   "source": [
    "print('Hasil klasifikasi = ', class_result.item())"
   ]
  },
  {
   "cell_type": "code",
   "execution_count": null,
   "metadata": {},
   "outputs": [],
   "source": []
  }
 ],
 "metadata": {
  "kernelspec": {
   "display_name": "Python 3",
   "language": "python",
   "name": "python3"
  },
  "language_info": {
   "codemirror_mode": {
    "name": "ipython",
    "version": 3
   },
   "file_extension": ".py",
   "mimetype": "text/x-python",
   "name": "python",
   "nbconvert_exporter": "python",
   "pygments_lexer": "ipython3",
   "version": "3.8.3"
  }
 },
 "nbformat": 4,
 "nbformat_minor": 4
}
