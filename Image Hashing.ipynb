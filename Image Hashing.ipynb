{
 "cells": [
  {
   "cell_type": "markdown",
   "metadata": {},
   "source": [
    "Image Hashing\n",
    "Image Hashing adalah teknik yang digunakan untuk mengkonversi gambar ke string alfanumerik. Image Hashing memiliki dua kegunaan utama: memungkinkan mendeteksi gambar yang identik atau serupa secara visual, dan memungkinkan menyimpan sidik jari gambar sehingga Anda tidak perlu memuat ulang setiap gambar untuk memeriksanya.\n",
    "\n",
    "Cara Kerja Image Hashing\n",
    "Hashing mengubah gambar menjadi string alfanumerik pendek yang mewakili keunikan gambar. Karena hash adalah string kecil dan berbasis teks, seperti e7643c330f0f0f0f, hash dapat disimpan tanpa menghabiskan banyak ruang dan dapat dicari serta dibandingkan dengan cepat."
   ]
  },
  {
   "cell_type": "code",
   "execution_count": 1,
   "metadata": {},
   "outputs": [
    {
     "name": "stdout",
     "output_type": "stream",
     "text": [
      "Collecting imagehash\n",
      "  Downloading ImageHash-4.2.1.tar.gz (812 kB)\n",
      "Requirement already satisfied: six in c:\\users\\sectio\\anaconda3\\lib\\site-packages (from imagehash) (1.15.0)\n",
      "Requirement already satisfied: numpy in c:\\users\\sectio\\anaconda3\\lib\\site-packages (from imagehash) (1.21.4)\n",
      "Requirement already satisfied: scipy in c:\\users\\sectio\\anaconda3\\lib\\site-packages (from imagehash) (1.5.0)\n",
      "Requirement already satisfied: pillow in c:\\users\\sectio\\anaconda3\\lib\\site-packages (from imagehash) (7.2.0)\n",
      "Requirement already satisfied: PyWavelets in c:\\users\\sectio\\anaconda3\\lib\\site-packages (from imagehash) (1.1.1)\n",
      "Building wheels for collected packages: imagehash\n",
      "  Building wheel for imagehash (setup.py): started\n",
      "  Building wheel for imagehash (setup.py): finished with status 'done'\n",
      "  Created wheel for imagehash: filename=ImageHash-4.2.1-py2.py3-none-any.whl size=295204 sha256=20c1e03be1814626900a907d1241b30b7a3d09e625c322d00f85655e5b8d069f\n",
      "  Stored in directory: c:\\users\\sectio\\appdata\\local\\pip\\cache\\wheels\\48\\a1\\7f\\096c1269d6bf78d4768180602579b35a1e8cb1250bb4b40c74\n",
      "Successfully built imagehash\n",
      "Installing collected packages: imagehash\n",
      "Successfully installed imagehash-4.2.1\n"
     ]
    }
   ],
   "source": [
    "import sys\n",
    "!{sys.executable} -m pip install imagehash"
   ]
  },
  {
   "cell_type": "markdown",
   "metadata": {},
   "source": [
    "Average Hash Image"
   ]
  },
  {
   "cell_type": "code",
   "execution_count": 2,
   "metadata": {},
   "outputs": [
    {
     "name": "stdout",
     "output_type": "stream",
     "text": [
      "Hash Gambar 1: 0060fcefc19fffff\n",
      "Hash Gambar 2: 00063ff783f9ffff\n",
      "Gambar berbeda, perbedaan hash: 16\n"
     ]
    }
   ],
   "source": [
    "#Import Library\n",
    "from PIL import Image\n",
    "import imagehash\n",
    "\n",
    "#Membuat Objek hash gambar 1\n",
    "HashGambar1 = imagehash.average_hash(Image.open('D:/Whale.jpg')) #Sesuaikan dengan directory\n",
    "print('Hash Gambar 1: ' + str(HashGambar1))\n",
    "\n",
    "#Membuat Objek hash gambar 2\n",
    "HashGambar2 = imagehash.average_hash(Image.open('D:/Whalee.jpg')) #Sesuaikan dengan directory\n",
    "print('Hash Gambar 2: ' + str(HashGambar2))\n",
    "\n",
    "#Membandingkan Objek Hash\n",
    "if(HashGambar1 == HashGambar2):\n",
    "    print(\"Gambar mirip!\")\n",
    "else:\n",
    "    print(\"Gambar berbeda, perbedaan hash: \" + str(HashGambar1 - HashGambar2))"
   ]
  },
  {
   "cell_type": "code",
   "execution_count": 4,
   "metadata": {},
   "outputs": [
    {
     "name": "stdout",
     "output_type": "stream",
     "text": [
      "Hash Gambar 1: 0060fcefc19fffff\n",
      "Hash Gambar 2: 0060fcefc19fffff\n",
      "Gambar mirip!\n"
     ]
    }
   ],
   "source": [
    "#Import Library\n",
    "from PIL import Image\n",
    "import imagehash\n",
    "\n",
    "#Membuat Objek hash gambar 1\n",
    "HashGambar1 = imagehash.average_hash(Image.open('D:/Whale.jpg'))\n",
    "print('Hash Gambar 1: ' + str(HashGambar1))\n",
    "\n",
    "#Membuat Objek hash gambar 2\n",
    "HashGambar2 = imagehash.average_hash(Image.open('D:/Whale.jpg'))\n",
    "print('Hash Gambar 2: ' + str(HashGambar2))\n",
    "\n",
    "#Membandingkan Objek Hash\n",
    "if(HashGambar1 == HashGambar2):\n",
    "    print(\"Gambar mirip!\")\n",
    "else:\n",
    "    print(\"Gambar berbeda, perbedaan hash: \" + str(HashGambar1 - HashGambar2))"
   ]
  },
  {
   "cell_type": "markdown",
   "metadata": {},
   "source": [
    "Perception Hashing"
   ]
  },
  {
   "cell_type": "code",
   "execution_count": 5,
   "metadata": {},
   "outputs": [
    {
     "name": "stdout",
     "output_type": "stream",
     "text": [
      "Hash Gambar 1: f151133c389b9e6c\n",
      "Hash Gambar 2: a50447696dcecb39\n",
      "Gambar berbeda, perbedaan hash: 30\n"
     ]
    }
   ],
   "source": [
    "#Import Library\n",
    "from PIL import Image\n",
    "import imagehash\n",
    "\n",
    "#Membuat Objek hash gambar 1\n",
    "HashGambar1 = imagehash.phash(Image.open('D:/Whale.jpg'))\n",
    "print('Hash Gambar 1: ' + str(HashGambar1))\n",
    "\n",
    "#Membuat Objek hash gambar 2\n",
    "HashGambar2 = imagehash.phash(Image.open('D:/Whalee.jpg'))\n",
    "print('Hash Gambar 2: ' + str(HashGambar2))\n",
    "\n",
    "#Membandingkan Objek Hash\n",
    "if(HashGambar1 == HashGambar2):\n",
    "    print(\"Gambar mirip!\")\n",
    "else:\n",
    "    print(\"Gambar berbeda, perbedaan hash: \" + str(HashGambar1 - HashGambar2))"
   ]
  },
  {
   "cell_type": "code",
   "execution_count": 6,
   "metadata": {},
   "outputs": [
    {
     "name": "stdout",
     "output_type": "stream",
     "text": [
      "Hash Gambar 1: f151133c389b9e6c\n",
      "Hash Gambar 2: f151133c389b9e6c\n",
      "Gambar mirip!\n"
     ]
    }
   ],
   "source": [
    "#Import Library\n",
    "from PIL import Image\n",
    "import imagehash\n",
    "\n",
    "#Membuat Objek hash gambar 1\n",
    "HashGambar1 = imagehash.phash(Image.open('D:/Whale.jpg'))\n",
    "print('Hash Gambar 1: ' + str(HashGambar1))\n",
    "\n",
    "#Membuat Objek hash gambar 2\n",
    "HashGambar2 = imagehash.phash(Image.open('D:/Whale.jpg'))\n",
    "print('Hash Gambar 2: ' + str(HashGambar2))\n",
    "\n",
    "#Membandingkan Objek Hash\n",
    "if(HashGambar1 == HashGambar2):\n",
    "    print(\"Gambar mirip!\")\n",
    "else:\n",
    "    print(\"Gambar berbeda, perbedaan hash: \" + str(HashGambar1 - HashGambar2))"
   ]
  },
  {
   "cell_type": "code",
   "execution_count": null,
   "metadata": {},
   "outputs": [],
   "source": [
    "Difference Hashing"
   ]
  },
  {
   "cell_type": "code",
   "execution_count": 7,
   "metadata": {},
   "outputs": [
    {
     "name": "stdout",
     "output_type": "stream",
     "text": [
      "Hash Gambar 1: 9cccc09c072cd000\n",
      "Hash Gambar 2: c6ccfcc61fcb0402\n",
      "Gambar berbeda, perbedaan hash: 25\n"
     ]
    }
   ],
   "source": [
    "#Import Library\n",
    "from PIL import Image\n",
    "import imagehash\n",
    "\n",
    "#Membuat Objek hash gambar 1\n",
    "HashGambar1 = imagehash.dhash(Image.open('D:/Whale.jpg'))\n",
    "print('Hash Gambar 1: ' + str(HashGambar1))\n",
    "\n",
    "#Membuat Objek hash gambar 2\n",
    "HashGambar2 = imagehash.dhash(Image.open('D:/Whalee.jpg'))\n",
    "print('Hash Gambar 2: ' + str(HashGambar2))\n",
    "\n",
    "#Membandingkan Objek Hash\n",
    "if(HashGambar1 == HashGambar2):\n",
    "    print(\"Gambar mirip!\")\n",
    "else:\n",
    "    print(\"Gambar berbeda, perbedaan hash: \" + str(HashGambar1 - HashGambar2))"
   ]
  },
  {
   "cell_type": "code",
   "execution_count": 8,
   "metadata": {},
   "outputs": [
    {
     "name": "stdout",
     "output_type": "stream",
     "text": [
      "Hash Gambar 1: 9cccc09c072cd000\n",
      "Hash Gambar 2: 9cccc09c072cd000\n",
      "Gambar mirip!\n"
     ]
    }
   ],
   "source": [
    "#Import Library\n",
    "from PIL import Image\n",
    "import imagehash\n",
    "\n",
    "#Membuat Objek hash gambar 1\n",
    "HashGambar1 = imagehash.dhash(Image.open('D:/Whale.jpg'))\n",
    "print('Hash Gambar 1: ' + str(HashGambar1))\n",
    "\n",
    "#Membuat Objek hash gambar 2\n",
    "HashGambar2 = imagehash.dhash(Image.open('D:/Whale.jpg'))\n",
    "print('Hash Gambar 2: ' + str(HashGambar2))\n",
    "\n",
    "#Membandingkan Objek Hash\n",
    "if(HashGambar1 == HashGambar2):\n",
    "    print(\"Gambar mirip!\")\n",
    "else:\n",
    "    print(\"Gambar berbeda, perbedaan hash: \" + str(HashGambar1 - HashGambar2))"
   ]
  },
  {
   "cell_type": "markdown",
   "metadata": {},
   "source": [
    "Wavelet Hashing"
   ]
  },
  {
   "cell_type": "code",
   "execution_count": 13,
   "metadata": {},
   "outputs": [
    {
     "name": "stdout",
     "output_type": "stream",
     "text": [
      "Hash Gambar 1: 0060f0eec0167fff\n",
      "Hash Gambar 2: 00060f770368feff\n",
      "Gambar berbeda, perbedaan hash: 28\n"
     ]
    }
   ],
   "source": [
    "#Import Library\n",
    "from PIL import Image\n",
    "import imagehash\n",
    "\n",
    "#Membuat Objek hash gambar 1\n",
    "HashGambar1 = imagehash.whash(Image.open('D:/Whale.jpg'))\n",
    "print('Hash Gambar 1: ' + str(HashGambar1))\n",
    "\n",
    "#Membuat Objek hash gambar 2\n",
    "HashGambar2 = imagehash.whash(Image.open('D:/Whalee.jpg'))\n",
    "print('Hash Gambar 2: ' + str(HashGambar2))\n",
    "\n",
    "#Membandingkan Objek Hash\n",
    "if(HashGambar1 == HashGambar2):\n",
    "    print(\"Gambar mirip!\")\n",
    "else:\n",
    "    print(\"Gambar berbeda, perbedaan hash: \" + str(HashGambar1 - HashGambar2))"
   ]
  },
  {
   "cell_type": "code",
   "execution_count": 10,
   "metadata": {},
   "outputs": [
    {
     "name": "stdout",
     "output_type": "stream",
     "text": [
      "Hash Gambar 1: 0060f0eec0167fff\n",
      "Hash Gambar 2: 0060f0eec0167fff\n",
      "Gambar mirip!\n"
     ]
    }
   ],
   "source": [
    "#Import Library\n",
    "from PIL import Image\n",
    "import imagehash\n",
    "\n",
    "#Membuat Objek hash gambar 1\n",
    "HashGambar1 = imagehash.whash(Image.open('D:/Whale.jpg'))\n",
    "print('Hash Gambar 1: ' + str(HashGambar1))\n",
    "\n",
    "#Membuat Objek hash gambar 2\n",
    "HashGambar2 = imagehash.whash(Image.open('D:/Whale.jpg'))\n",
    "print('Hash Gambar 2: ' + str(HashGambar2))\n",
    "\n",
    "#Membandingkan Objek Hash\n",
    "if(HashGambar1 == HashGambar2):\n",
    "    print(\"Gambar mirip!\")\n",
    "else:\n",
    "    print(\"Gambar berbeda, perbedaan hash: \" + str(HashGambar1 - HashGambar2))"
   ]
  },
  {
   "cell_type": "code",
   "execution_count": null,
   "metadata": {},
   "outputs": [],
   "source": []
  }
 ],
 "metadata": {
  "kernelspec": {
   "display_name": "Python 3",
   "language": "python",
   "name": "python3"
  },
  "language_info": {
   "codemirror_mode": {
    "name": "ipython",
    "version": 3
   },
   "file_extension": ".py",
   "mimetype": "text/x-python",
   "name": "python",
   "nbconvert_exporter": "python",
   "pygments_lexer": "ipython3",
   "version": "3.8.3"
  }
 },
 "nbformat": 4,
 "nbformat_minor": 4
}
