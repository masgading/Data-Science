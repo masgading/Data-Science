{
 "cells": [
  {
   "cell_type": "code",
   "execution_count": 1,
   "metadata": {},
   "outputs": [
    {
     "name": "stdout",
     "output_type": "stream",
     "text": [
      "Requirement already satisfied: bs4 in c:\\users\\sectio\\anaconda3\\lib\\site-packages (0.0.1)\n",
      "Requirement already satisfied: beautifulsoup4 in c:\\users\\sectio\\anaconda3\\lib\\site-packages (from bs4) (4.9.1)\n",
      "Requirement already satisfied: soupsieve>1.2 in c:\\users\\sectio\\anaconda3\\lib\\site-packages (from beautifulsoup4->bs4) (2.0.1)\n"
     ]
    }
   ],
   "source": [
    "#instal library\n",
    "import sys\n",
    "!{sys.executable} -m pip install bs4"
   ]
  },
  {
   "cell_type": "code",
   "execution_count": 2,
   "metadata": {},
   "outputs": [
    {
     "name": "stdout",
     "output_type": "stream",
     "text": [
      "        Date     Price      Open      High       Low   Vol. Change %\n",
      "0  12-Oct-21  55,967.0  57,468.0  57,633.0  54,000.0  5.94K   -2.61%\n",
      "1  11-Oct-21  57,468.0  54,701.0  57,802.5  54,430.0  7.51K    5.06%\n",
      "2  10-Oct-21  54,701.0  54,978.0  56,414.0  54,173.0  5.84K   -0.50%\n"
     ]
    }
   ],
   "source": [
    "#Source Code Web Scrape\n",
    "import requests\n",
    "from bs4 import BeautifulSoup\n",
    "import pandas as pd\n",
    "import csv\n",
    "from datetime import date\n",
    "import datetime\n",
    "import numpy as np\n",
    "from matplotlib import pyplot as plt\n",
    "from sklearn.linear_model import LinearRegression\n",
    "from sklearn.metrics import mean_squared_error\n",
    "import statsmodels.stats.api\n",
    "import statsmodels.formula.api\n",
    "\n",
    "today = date.today()\n",
    "today=date.strftime(today,'%d/%m/%Y')\n",
    "urlheader = {\n",
    "    \"User-Agent\": \"Mozilla/5.0 (Windows NT 10.0; Win64; x64) AppleWebKit/537.36 (KHTML, like Gecko) Chrome/94.0.4606.81 Safari/537.36\",\n",
    "    \"X-Requested-With\": \"XMLHttpRequest\"\n",
    "}\n",
    "filename=['D:\\BTC_USD Bitfinex Historical Data.csv'] #Pastikan sesuai dengan tempat Directory penyimpanan file yang sudah kalian download\n",
    "url = \"https://www.investing.com/instruments/HistoricalDataAjax\"\n",
    "\n",
    "\n",
    "for each in filename:\n",
    "    with open(each, 'r') as readFile:\n",
    "        reader = csv.reader(readFile)\n",
    "        lines = list(reader)\n",
    "    startdate=lines[1][0]\n",
    "    startdate=datetime.datetime.strptime(startdate,'%d-%b-%y')\n",
    "    startdate += datetime.timedelta(days=1)\n",
    "    startdate=startdate.strftime('%d/%m/%Y')\n",
    "    readFile.close()\n",
    "    if (each == 'D:\\BTC_USD Bitfinex Historical Data.csv'): #Pastikan sesuai dengan tempat Directory penyimpanan file yang sudah kalian download \n",
    "        header=\"BTC/USD Bitfinex Historical Data\"\n",
    "        curr_id=\"945629\"\n",
    "        smlID= \"145284\"\n",
    "        column_name='BTC Price'\n",
    " \n",
    "    payload = {'header': header, \n",
    "               'st_date': startdate, 'end_date': today, \n",
    "               'sort_col': 'date', 'action': 'historical_data', \n",
    "               'smlID': smlID, 'sort_ord': 'DESC', 'interval_sec': 'Daily', 'curr_id': curr_id}\n",
    "\n",
    "    req = requests.post(url, headers=urlheader, data=payload)\n",
    "    soup = BeautifulSoup(req.content, \"lxml\")\n",
    "    table = soup.find('table', id=\"curr_table\")\n",
    "    split_rows = table.find_all(\"tr\")\n",
    "    rows = table.findAll('tr')\n",
    "    header_text = []\n",
    "    headers = rows[0]\n",
    "    \n",
    "    \n",
    "    for th in headers.findAll('th'):\n",
    "        header_text.append(th.text)\n",
    "        \n",
    "    del header_text[2:]\n",
    "    \n",
    "    row_text_array = []\n",
    "    for row in rows[1:]:\n",
    "        row_text = []\n",
    "        for row_element in row.findAll(['th', 'td']):\n",
    "            row_text.append(row_element.text.replace('\\n', '').strip())\n",
    "        del row_text[2:]\n",
    "        row_text_array.append(row_text)\n",
    "    \n",
    "    df = pd.read_csv(each)\n",
    "    \n",
    "    df1 = pd.DataFrame(row_text_array)\n",
    "    \n",
    "    df1.rename(columns={0:'Date',1:column_name}, inplace=True)\n",
    "    df=df.append(df1,sort=False)\n",
    "    df=df.dropna()\n",
    "    df['Date']= pd.to_datetime(df['Date'])\n",
    "    df = df.sort_values('Date',ascending=False)\n",
    "    \n",
    "    df['Date']= df['Date'].dt.strftime('%d-%b-%y')\n",
    "    print(df.head(3))\n",
    "    df.to_csv(each,index=False)"
   ]
  },
  {
   "cell_type": "code",
   "execution_count": 3,
   "metadata": {},
   "outputs": [
    {
     "data": {
      "text/html": [
       "<div>\n",
       "<style scoped>\n",
       "    .dataframe tbody tr th:only-of-type {\n",
       "        vertical-align: middle;\n",
       "    }\n",
       "\n",
       "    .dataframe tbody tr th {\n",
       "        vertical-align: top;\n",
       "    }\n",
       "\n",
       "    .dataframe thead th {\n",
       "        text-align: right;\n",
       "    }\n",
       "</style>\n",
       "<table border=\"1\" class=\"dataframe\">\n",
       "  <thead>\n",
       "    <tr style=\"text-align: right;\">\n",
       "      <th></th>\n",
       "      <th>Date</th>\n",
       "      <th>Price</th>\n",
       "      <th>Open</th>\n",
       "      <th>High</th>\n",
       "      <th>Low</th>\n",
       "      <th>Vol.</th>\n",
       "      <th>Change %</th>\n",
       "    </tr>\n",
       "  </thead>\n",
       "  <tbody>\n",
       "    <tr>\n",
       "      <th>0</th>\n",
       "      <td>12-Oct-21</td>\n",
       "      <td>55,967.0</td>\n",
       "      <td>57,468.0</td>\n",
       "      <td>57,633.0</td>\n",
       "      <td>54,000.0</td>\n",
       "      <td>5.94K</td>\n",
       "      <td>-2.61%</td>\n",
       "    </tr>\n",
       "    <tr>\n",
       "      <th>1</th>\n",
       "      <td>11-Oct-21</td>\n",
       "      <td>57,468.0</td>\n",
       "      <td>54,701.0</td>\n",
       "      <td>57,802.5</td>\n",
       "      <td>54,430.0</td>\n",
       "      <td>7.51K</td>\n",
       "      <td>5.06%</td>\n",
       "    </tr>\n",
       "    <tr>\n",
       "      <th>2</th>\n",
       "      <td>10-Oct-21</td>\n",
       "      <td>54,701.0</td>\n",
       "      <td>54,978.0</td>\n",
       "      <td>56,414.0</td>\n",
       "      <td>54,173.0</td>\n",
       "      <td>5.84K</td>\n",
       "      <td>-0.50%</td>\n",
       "    </tr>\n",
       "    <tr>\n",
       "      <th>3</th>\n",
       "      <td>09-Oct-21</td>\n",
       "      <td>54,978.0</td>\n",
       "      <td>53,925.0</td>\n",
       "      <td>55,443.7</td>\n",
       "      <td>53,711.0</td>\n",
       "      <td>2.44K</td>\n",
       "      <td>1.95%</td>\n",
       "    </tr>\n",
       "  </tbody>\n",
       "</table>\n",
       "</div>"
      ],
      "text/plain": [
       "        Date     Price      Open      High       Low   Vol. Change %\n",
       "0  12-Oct-21  55,967.0  57,468.0  57,633.0  54,000.0  5.94K   -2.61%\n",
       "1  11-Oct-21  57,468.0  54,701.0  57,802.5  54,430.0  7.51K    5.06%\n",
       "2  10-Oct-21  54,701.0  54,978.0  56,414.0  54,173.0  5.84K   -0.50%\n",
       "3  09-Oct-21  54,978.0  53,925.0  55,443.7  53,711.0  2.44K    1.95%"
      ]
     },
     "execution_count": 3,
     "metadata": {},
     "output_type": "execute_result"
    }
   ],
   "source": [
    "#Mengetahui informasi data yang telah di-scrape\n",
    "df.head(4)"
   ]
  },
  {
   "cell_type": "code",
   "execution_count": 4,
   "metadata": {},
   "outputs": [
    {
     "data": {
      "text/html": [
       "<div>\n",
       "<style scoped>\n",
       "    .dataframe tbody tr th:only-of-type {\n",
       "        vertical-align: middle;\n",
       "    }\n",
       "\n",
       "    .dataframe tbody tr th {\n",
       "        vertical-align: top;\n",
       "    }\n",
       "\n",
       "    .dataframe thead th {\n",
       "        text-align: right;\n",
       "    }\n",
       "</style>\n",
       "<table border=\"1\" class=\"dataframe\">\n",
       "  <thead>\n",
       "    <tr style=\"text-align: right;\">\n",
       "      <th></th>\n",
       "      <th>Date</th>\n",
       "      <th>Price</th>\n",
       "      <th>Open</th>\n",
       "      <th>High</th>\n",
       "      <th>Low</th>\n",
       "      <th>Vol.</th>\n",
       "      <th>Change %</th>\n",
       "    </tr>\n",
       "  </thead>\n",
       "  <tbody>\n",
       "    <tr>\n",
       "      <th>count</th>\n",
       "      <td>3537</td>\n",
       "      <td>3537</td>\n",
       "      <td>3537</td>\n",
       "      <td>3537</td>\n",
       "      <td>3537</td>\n",
       "      <td>3537</td>\n",
       "      <td>3537</td>\n",
       "    </tr>\n",
       "    <tr>\n",
       "      <th>unique</th>\n",
       "      <td>3537</td>\n",
       "      <td>3055</td>\n",
       "      <td>3044</td>\n",
       "      <td>3003</td>\n",
       "      <td>3019</td>\n",
       "      <td>1923</td>\n",
       "      <td>1323</td>\n",
       "    </tr>\n",
       "    <tr>\n",
       "      <th>top</th>\n",
       "      <td>02-Dec-12</td>\n",
       "      <td>5.1</td>\n",
       "      <td>5.1</td>\n",
       "      <td>5.1</td>\n",
       "      <td>5.1</td>\n",
       "      <td>-</td>\n",
       "      <td>0.00%</td>\n",
       "    </tr>\n",
       "    <tr>\n",
       "      <th>freq</th>\n",
       "      <td>1</td>\n",
       "      <td>26</td>\n",
       "      <td>26</td>\n",
       "      <td>26</td>\n",
       "      <td>26</td>\n",
       "      <td>660</td>\n",
       "      <td>135</td>\n",
       "    </tr>\n",
       "  </tbody>\n",
       "</table>\n",
       "</div>"
      ],
      "text/plain": [
       "             Date Price  Open  High   Low  Vol. Change %\n",
       "count        3537  3537  3537  3537  3537  3537     3537\n",
       "unique       3537  3055  3044  3003  3019  1923     1323\n",
       "top     02-Dec-12   5.1   5.1   5.1   5.1     -    0.00%\n",
       "freq            1    26    26    26    26   660      135"
      ]
     },
     "execution_count": 4,
     "metadata": {},
     "output_type": "execute_result"
    }
   ],
   "source": [
    "df.describe()"
   ]
  },
  {
   "cell_type": "code",
   "execution_count": 5,
   "metadata": {},
   "outputs": [
    {
     "data": {
      "text/plain": [
       "(3537, 7)"
      ]
     },
     "execution_count": 5,
     "metadata": {},
     "output_type": "execute_result"
    }
   ],
   "source": [
    "df.shape"
   ]
  },
  {
   "cell_type": "code",
   "execution_count": 6,
   "metadata": {},
   "outputs": [
    {
     "data": {
      "text/plain": [
       "Date        object\n",
       "Price       object\n",
       "Open        object\n",
       "High        object\n",
       "Low         object\n",
       "Vol.        object\n",
       "Change %    object\n",
       "dtype: object"
      ]
     },
     "execution_count": 6,
     "metadata": {},
     "output_type": "execute_result"
    }
   ],
   "source": [
    "df.dtypes"
   ]
  },
  {
   "cell_type": "code",
   "execution_count": 7,
   "metadata": {},
   "outputs": [
    {
     "name": "stdout",
     "output_type": "stream",
     "text": [
      "<class 'pandas.core.frame.DataFrame'>\n",
      "Int64Index: 3537 entries, 0 to 3536\n",
      "Data columns (total 7 columns):\n",
      " #   Column    Non-Null Count  Dtype \n",
      "---  ------    --------------  ----- \n",
      " 0   Date      3537 non-null   object\n",
      " 1   Price     3537 non-null   object\n",
      " 2   Open      3537 non-null   object\n",
      " 3   High      3537 non-null   object\n",
      " 4   Low       3537 non-null   object\n",
      " 5   Vol.      3537 non-null   object\n",
      " 6   Change %  3537 non-null   object\n",
      "dtypes: object(7)\n",
      "memory usage: 221.1+ KB\n"
     ]
    }
   ],
   "source": [
    "df.info()"
   ]
  },
  {
   "cell_type": "code",
   "execution_count": 8,
   "metadata": {},
   "outputs": [],
   "source": [
    "#Mining beberapa kolom yang dibutuhkan untuk analisa data sekaligus mengetahui informasi setelah dilakukan mining\n",
    "df['Date'] = pd.to_datetime(df['Date'])\n",
    "df['Price'] = df['Price'].str.replace(',', '').astype(float)\n",
    "df['Open'] = df['Open'].str.replace(',', '').astype(float)\n",
    "df['High'] = df['High'].str.replace(',', '').astype(float)\n",
    "df['Low'] = df['Low'].str.replace(',', '').astype(float)"
   ]
  },
  {
   "cell_type": "code",
   "execution_count": 9,
   "metadata": {},
   "outputs": [
    {
     "data": {
      "text/html": [
       "<div>\n",
       "<style scoped>\n",
       "    .dataframe tbody tr th:only-of-type {\n",
       "        vertical-align: middle;\n",
       "    }\n",
       "\n",
       "    .dataframe tbody tr th {\n",
       "        vertical-align: top;\n",
       "    }\n",
       "\n",
       "    .dataframe thead th {\n",
       "        text-align: right;\n",
       "    }\n",
       "</style>\n",
       "<table border=\"1\" class=\"dataframe\">\n",
       "  <thead>\n",
       "    <tr style=\"text-align: right;\">\n",
       "      <th></th>\n",
       "      <th>Date</th>\n",
       "      <th>Price</th>\n",
       "      <th>Open</th>\n",
       "      <th>High</th>\n",
       "      <th>Low</th>\n",
       "      <th>Vol.</th>\n",
       "      <th>Change %</th>\n",
       "    </tr>\n",
       "  </thead>\n",
       "  <tbody>\n",
       "    <tr>\n",
       "      <th>0</th>\n",
       "      <td>2021-10-12</td>\n",
       "      <td>55967.0</td>\n",
       "      <td>57468.0</td>\n",
       "      <td>57633.0</td>\n",
       "      <td>54000.0</td>\n",
       "      <td>5.94K</td>\n",
       "      <td>-2.61%</td>\n",
       "    </tr>\n",
       "    <tr>\n",
       "      <th>1</th>\n",
       "      <td>2021-10-11</td>\n",
       "      <td>57468.0</td>\n",
       "      <td>54701.0</td>\n",
       "      <td>57802.5</td>\n",
       "      <td>54430.0</td>\n",
       "      <td>7.51K</td>\n",
       "      <td>5.06%</td>\n",
       "    </tr>\n",
       "    <tr>\n",
       "      <th>2</th>\n",
       "      <td>2021-10-10</td>\n",
       "      <td>54701.0</td>\n",
       "      <td>54978.0</td>\n",
       "      <td>56414.0</td>\n",
       "      <td>54173.0</td>\n",
       "      <td>5.84K</td>\n",
       "      <td>-0.50%</td>\n",
       "    </tr>\n",
       "    <tr>\n",
       "      <th>3</th>\n",
       "      <td>2021-10-09</td>\n",
       "      <td>54978.0</td>\n",
       "      <td>53925.0</td>\n",
       "      <td>55443.7</td>\n",
       "      <td>53711.0</td>\n",
       "      <td>2.44K</td>\n",
       "      <td>1.95%</td>\n",
       "    </tr>\n",
       "  </tbody>\n",
       "</table>\n",
       "</div>"
      ],
      "text/plain": [
       "        Date    Price     Open     High      Low   Vol. Change %\n",
       "0 2021-10-12  55967.0  57468.0  57633.0  54000.0  5.94K   -2.61%\n",
       "1 2021-10-11  57468.0  54701.0  57802.5  54430.0  7.51K    5.06%\n",
       "2 2021-10-10  54701.0  54978.0  56414.0  54173.0  5.84K   -0.50%\n",
       "3 2021-10-09  54978.0  53925.0  55443.7  53711.0  2.44K    1.95%"
      ]
     },
     "execution_count": 9,
     "metadata": {},
     "output_type": "execute_result"
    }
   ],
   "source": [
    "df.head(4)"
   ]
  },
  {
   "cell_type": "code",
   "execution_count": 10,
   "metadata": {},
   "outputs": [
    {
     "data": {
      "text/html": [
       "<div>\n",
       "<style scoped>\n",
       "    .dataframe tbody tr th:only-of-type {\n",
       "        vertical-align: middle;\n",
       "    }\n",
       "\n",
       "    .dataframe tbody tr th {\n",
       "        vertical-align: top;\n",
       "    }\n",
       "\n",
       "    .dataframe thead th {\n",
       "        text-align: right;\n",
       "    }\n",
       "</style>\n",
       "<table border=\"1\" class=\"dataframe\">\n",
       "  <thead>\n",
       "    <tr style=\"text-align: right;\">\n",
       "      <th></th>\n",
       "      <th>Date</th>\n",
       "      <th>Price</th>\n",
       "      <th>Open</th>\n",
       "      <th>High</th>\n",
       "      <th>Low</th>\n",
       "      <th>Vol.</th>\n",
       "      <th>Change %</th>\n",
       "    </tr>\n",
       "  </thead>\n",
       "  <tbody>\n",
       "    <tr>\n",
       "      <th>0</th>\n",
       "      <td>2021-10-12</td>\n",
       "      <td>55967.0</td>\n",
       "      <td>57468.0</td>\n",
       "      <td>57633.0</td>\n",
       "      <td>54000.0</td>\n",
       "      <td>5.94K</td>\n",
       "      <td>-2.61%</td>\n",
       "    </tr>\n",
       "    <tr>\n",
       "      <th>1</th>\n",
       "      <td>2021-10-11</td>\n",
       "      <td>57468.0</td>\n",
       "      <td>54701.0</td>\n",
       "      <td>57802.5</td>\n",
       "      <td>54430.0</td>\n",
       "      <td>7.51K</td>\n",
       "      <td>5.06%</td>\n",
       "    </tr>\n",
       "    <tr>\n",
       "      <th>2</th>\n",
       "      <td>2021-10-10</td>\n",
       "      <td>54701.0</td>\n",
       "      <td>54978.0</td>\n",
       "      <td>56414.0</td>\n",
       "      <td>54173.0</td>\n",
       "      <td>5.84K</td>\n",
       "      <td>-0.50%</td>\n",
       "    </tr>\n",
       "    <tr>\n",
       "      <th>3</th>\n",
       "      <td>2021-10-09</td>\n",
       "      <td>54978.0</td>\n",
       "      <td>53925.0</td>\n",
       "      <td>55443.7</td>\n",
       "      <td>53711.0</td>\n",
       "      <td>2.44K</td>\n",
       "      <td>1.95%</td>\n",
       "    </tr>\n",
       "  </tbody>\n",
       "</table>\n",
       "</div>"
      ],
      "text/plain": [
       "        Date    Price     Open     High      Low   Vol. Change %\n",
       "0 2021-10-12  55967.0  57468.0  57633.0  54000.0  5.94K   -2.61%\n",
       "1 2021-10-11  57468.0  54701.0  57802.5  54430.0  7.51K    5.06%\n",
       "2 2021-10-10  54701.0  54978.0  56414.0  54173.0  5.84K   -0.50%\n",
       "3 2021-10-09  54978.0  53925.0  55443.7  53711.0  2.44K    1.95%"
      ]
     },
     "execution_count": 10,
     "metadata": {},
     "output_type": "execute_result"
    }
   ],
   "source": [
    "df.head(4)"
   ]
  },
  {
   "cell_type": "code",
   "execution_count": 11,
   "metadata": {},
   "outputs": [
    {
     "name": "stdout",
     "output_type": "stream",
     "text": [
      "<class 'pandas.core.frame.DataFrame'>\n",
      "Int64Index: 3537 entries, 0 to 3536\n",
      "Data columns (total 7 columns):\n",
      " #   Column    Non-Null Count  Dtype         \n",
      "---  ------    --------------  -----         \n",
      " 0   Date      3537 non-null   datetime64[ns]\n",
      " 1   Price     3537 non-null   float64       \n",
      " 2   Open      3537 non-null   float64       \n",
      " 3   High      3537 non-null   float64       \n",
      " 4   Low       3537 non-null   float64       \n",
      " 5   Vol.      3537 non-null   object        \n",
      " 6   Change %  3537 non-null   object        \n",
      "dtypes: datetime64[ns](1), float64(4), object(2)\n",
      "memory usage: 221.1+ KB\n"
     ]
    }
   ],
   "source": [
    "df.info()"
   ]
  },
  {
   "cell_type": "code",
   "execution_count": 12,
   "metadata": {},
   "outputs": [
    {
     "data": {
      "text/html": [
       "<div>\n",
       "<style scoped>\n",
       "    .dataframe tbody tr th:only-of-type {\n",
       "        vertical-align: middle;\n",
       "    }\n",
       "\n",
       "    .dataframe tbody tr th {\n",
       "        vertical-align: top;\n",
       "    }\n",
       "\n",
       "    .dataframe thead th {\n",
       "        text-align: right;\n",
       "    }\n",
       "</style>\n",
       "<table border=\"1\" class=\"dataframe\">\n",
       "  <thead>\n",
       "    <tr style=\"text-align: right;\">\n",
       "      <th></th>\n",
       "      <th>Price</th>\n",
       "      <th>Open</th>\n",
       "      <th>High</th>\n",
       "      <th>Low</th>\n",
       "    </tr>\n",
       "  </thead>\n",
       "  <tbody>\n",
       "    <tr>\n",
       "      <th>count</th>\n",
       "      <td>3537.000000</td>\n",
       "      <td>3537.000000</td>\n",
       "      <td>3537.000000</td>\n",
       "      <td>3537.000000</td>\n",
       "    </tr>\n",
       "    <tr>\n",
       "      <th>mean</th>\n",
       "      <td>6882.461634</td>\n",
       "      <td>6867.310913</td>\n",
       "      <td>7060.137235</td>\n",
       "      <td>6665.764461</td>\n",
       "    </tr>\n",
       "    <tr>\n",
       "      <th>std</th>\n",
       "      <td>12350.527632</td>\n",
       "      <td>12323.964251</td>\n",
       "      <td>12664.826666</td>\n",
       "      <td>11971.606851</td>\n",
       "    </tr>\n",
       "    <tr>\n",
       "      <th>min</th>\n",
       "      <td>4.200000</td>\n",
       "      <td>4.200000</td>\n",
       "      <td>4.200000</td>\n",
       "      <td>4.200000</td>\n",
       "    </tr>\n",
       "    <tr>\n",
       "      <th>25%</th>\n",
       "      <td>273.300000</td>\n",
       "      <td>273.300000</td>\n",
       "      <td>279.600000</td>\n",
       "      <td>267.300000</td>\n",
       "    </tr>\n",
       "    <tr>\n",
       "      <th>50%</th>\n",
       "      <td>872.600000</td>\n",
       "      <td>871.400000</td>\n",
       "      <td>901.500000</td>\n",
       "      <td>833.700000</td>\n",
       "    </tr>\n",
       "    <tr>\n",
       "      <th>75%</th>\n",
       "      <td>8230.100000</td>\n",
       "      <td>8230.000000</td>\n",
       "      <td>8423.500000</td>\n",
       "      <td>8019.700000</td>\n",
       "    </tr>\n",
       "    <tr>\n",
       "      <th>max</th>\n",
       "      <td>63518.000000</td>\n",
       "      <td>63518.000000</td>\n",
       "      <td>64374.000000</td>\n",
       "      <td>62348.000000</td>\n",
       "    </tr>\n",
       "  </tbody>\n",
       "</table>\n",
       "</div>"
      ],
      "text/plain": [
       "              Price          Open          High           Low\n",
       "count   3537.000000   3537.000000   3537.000000   3537.000000\n",
       "mean    6882.461634   6867.310913   7060.137235   6665.764461\n",
       "std    12350.527632  12323.964251  12664.826666  11971.606851\n",
       "min        4.200000      4.200000      4.200000      4.200000\n",
       "25%      273.300000    273.300000    279.600000    267.300000\n",
       "50%      872.600000    871.400000    901.500000    833.700000\n",
       "75%     8230.100000   8230.000000   8423.500000   8019.700000\n",
       "max    63518.000000  63518.000000  64374.000000  62348.000000"
      ]
     },
     "execution_count": 12,
     "metadata": {},
     "output_type": "execute_result"
    }
   ],
   "source": [
    "df.describe()"
   ]
  },
  {
   "cell_type": "code",
   "execution_count": 13,
   "metadata": {},
   "outputs": [],
   "source": [
    "#Olah Data\n",
    "avgp = df.groupby('Date')['Price'].mean()"
   ]
  },
  {
   "cell_type": "code",
   "execution_count": 14,
   "metadata": {},
   "outputs": [],
   "source": [
    "x = avgp.index\n",
    "y = avgp.values"
   ]
  },
  {
   "cell_type": "code",
   "execution_count": 15,
   "metadata": {},
   "outputs": [
    {
     "data": {
      "text/plain": [
       "Text(0.5, 1.0, 'Pergerakan Harga Bitcoin')"
      ]
     },
     "execution_count": 15,
     "metadata": {},
     "output_type": "execute_result"
    },
    {
     "data": {
      "image/png": "[encoded data removed]",
      "text/plain": [
       "<Figure size 1152x576 with 1 Axes>"
      ]
     },
     "metadata": {
      "needs_background": "light"
     },
     "output_type": "display_data"
    }
   ],
   "source": [
    "plt.figure(figsize=(16,8))\n",
    "plt.scatter(x,y)\n",
    "plt.plot(x,y)\n",
    "plt.xlabel('Tahun')\n",
    "plt.ylabel('Pergerakan Harga')\n",
    "plt.title('Pergerakan Harga Bitcoin')"
   ]
  },
  {
   "cell_type": "code",
   "execution_count": 16,
   "metadata": {},
   "outputs": [
    {
     "data": {
      "text/plain": [
       "LinearRegression()"
      ]
     },
     "execution_count": 16,
     "metadata": {},
     "output_type": "execute_result"
    }
   ],
   "source": [
    "linreg = LinearRegression()\n",
    "x=np.array(x).reshape(-1,1)\n",
    "linreg.fit(x,y)"
   ]
  },
  {
   "cell_type": "code",
   "execution_count": 17,
   "metadata": {},
   "outputs": [],
   "source": [
    "P_2021 = np.array(2021).reshape(-1,1)\n",
    "pred_P = linreg.predict(P_2021)"
   ]
  },
  {
   "cell_type": "code",
   "execution_count": 19,
   "metadata": {},
   "outputs": [
    {
     "name": "stdout",
     "output_type": "stream",
     "text": [
      "Prediksi rata-rata harga tahun 2021 =  -134175.51652720835\n"
     ]
    }
   ],
   "source": [
    "print('Prediksi rata-rata harga tahun 2021 = ', pred_P.item())"
   ]
  },
  {
   "cell_type": "code",
   "execution_count": 20,
   "metadata": {
    "scrolled": true
   },
   "outputs": [
    {
     "name": "stdout",
     "output_type": "stream",
     "text": [
      "                            OLS Regression Results                            \n",
      "==============================================================================\n",
      "Dep. Variable:                  Price   R-squared:                       0.999\n",
      "Model:                            OLS   Adj. R-squared:                  0.999\n",
      "Method:                 Least Squares   F-statistic:                 1.907e+06\n",
      "Date:                Sun, 17 Oct 2021   Prob (F-statistic):               0.00\n",
      "Time:                        19:11:08   Log-Likelihood:                -25989.\n",
      "No. Observations:                3537   AIC:                         5.198e+04\n",
      "Df Residuals:                    3534   BIC:                         5.200e+04\n",
      "Df Model:                           2                                         \n",
      "Covariance Type:            nonrobust                                         \n",
      "==============================================================================\n",
      "                 coef    std err          t      P>|t|      [0.025      0.975]\n",
      "------------------------------------------------------------------------------\n",
      "Intercept      1.0074      7.236      0.139      0.889     -13.181      15.195\n",
      "High           1.1937      0.016     74.466      0.000       1.162       1.225\n",
      "Open          -0.2251      0.016    -13.666      0.000      -0.257      -0.193\n",
      "==============================================================================\n",
      "Omnibus:                     3765.763   Durbin-Watson:                   1.692\n",
      "Prob(Omnibus):                  0.000   Jarque-Bera (JB):           507450.999\n",
      "Skew:                          -5.065   Prob(JB):                         0.00\n",
      "Kurtosis:                      60.798   Cond. No.                     2.32e+04\n",
      "==============================================================================\n",
      "\n",
      "Warnings:\n",
      "[1] Standard Errors assume that the covariance matrix of the errors is correctly specified.\n",
      "[2] The condition number is large, 2.32e+04. This might indicate that there are\n",
      "strong multicollinearity or other numerical problems.\n"
     ]
    }
   ],
   "source": [
    "regB = statsmodels.formula.api.ols('Price~High+Open', data = df).fit()\n",
    "print(regB.summary())"
   ]
  },
  {
   "cell_type": "code",
   "execution_count": 21,
   "metadata": {},
   "outputs": [
    {
     "name": "stdout",
     "output_type": "stream",
     "text": [
      "                            OLS Regression Results                            \n",
      "==============================================================================\n",
      "Dep. Variable:                  Price   R-squared:                       0.999\n",
      "Model:                            OLS   Adj. R-squared:                  0.999\n",
      "Method:                 Least Squares   F-statistic:                 2.702e+06\n",
      "Date:                Sun, 17 Oct 2021   Prob (F-statistic):               0.00\n",
      "Time:                        19:16:51   Log-Likelihood:                -25373.\n",
      "No. Observations:                3537   AIC:                         5.075e+04\n",
      "Df Residuals:                    3534   BIC:                         5.077e+04\n",
      "Df Model:                           2                                         \n",
      "Covariance Type:            nonrobust                                         \n",
      "==============================================================================\n",
      "                 coef    std err          t      P>|t|      [0.025      0.975]\n",
      "------------------------------------------------------------------------------\n",
      "Intercept      2.0150      6.080      0.331      0.740      -9.905      13.935\n",
      "High           0.5432      0.010     52.424      0.000       0.523       0.563\n",
      "Low            0.4569      0.011     41.686      0.000       0.435       0.478\n",
      "==============================================================================\n",
      "Omnibus:                     1189.690   Durbin-Watson:                   2.112\n",
      "Prob(Omnibus):                  0.000   Jarque-Bera (JB):           175283.443\n",
      "Skew:                          -0.475   Prob(JB):                         0.00\n",
      "Kurtosis:                      37.474   Cond. No.                     2.28e+04\n",
      "==============================================================================\n",
      "\n",
      "Warnings:\n",
      "[1] Standard Errors assume that the covariance matrix of the errors is correctly specified.\n",
      "[2] The condition number is large, 2.28e+04. This might indicate that there are\n",
      "strong multicollinearity or other numerical problems.\n"
     ]
    }
   ],
   "source": [
    "regB1 = statsmodels.formula.api.ols('Price~High+Low', data = df).fit()\n",
    "print(regB1.summary())"
   ]
  },
  {
   "cell_type": "code",
   "execution_count": 22,
   "metadata": {},
   "outputs": [
    {
     "name": "stdout",
     "output_type": "stream",
     "text": [
      "                            OLS Regression Results                            \n",
      "==============================================================================\n",
      "Dep. Variable:                  Price   R-squared:                       0.999\n",
      "Model:                            OLS   Adj. R-squared:                  0.999\n",
      "Method:                 Least Squares   F-statistic:                 1.539e+06\n",
      "Date:                Sun, 17 Oct 2021   Prob (F-statistic):               0.00\n",
      "Time:                        19:20:06   Log-Likelihood:                -26368.\n",
      "No. Observations:                3537   AIC:                         5.274e+04\n",
      "Df Residuals:                    3534   BIC:                         5.276e+04\n",
      "Df Model:                           2                                         \n",
      "Covariance Type:            nonrobust                                         \n",
      "==============================================================================\n",
      "                 coef    std err          t      P>|t|      [0.025      0.975]\n",
      "------------------------------------------------------------------------------\n",
      "Intercept      8.6766      8.054      1.077      0.281      -7.115      24.468\n",
      "Low            0.9303      0.015     61.592      0.000       0.901       0.960\n",
      "Open           0.0979      0.015      6.675      0.000       0.069       0.127\n",
      "==============================================================================\n",
      "Omnibus:                     3245.360   Durbin-Watson:                   1.903\n",
      "Prob(Omnibus):                  0.000   Jarque-Bera (JB):           314318.740\n",
      "Skew:                           4.003   Prob(JB):                         0.00\n",
      "Kurtosis:                      48.483   Cond. No.                     2.25e+04\n",
      "==============================================================================\n",
      "\n",
      "Warnings:\n",
      "[1] Standard Errors assume that the covariance matrix of the errors is correctly specified.\n",
      "[2] The condition number is large, 2.25e+04. This might indicate that there are\n",
      "strong multicollinearity or other numerical problems.\n"
     ]
    }
   ],
   "source": [
    "regB2 = statsmodels.formula.api.ols('Price~Low+Open', data = df).fit()\n",
    "print(regB2.summary())"
   ]
  },
  {
   "cell_type": "code",
   "execution_count": 23,
   "metadata": {},
   "outputs": [
    {
     "name": "stdout",
     "output_type": "stream",
     "text": [
      "                            OLS Regression Results                            \n",
      "==============================================================================\n",
      "Dep. Variable:                   Open   R-squared:                       0.999\n",
      "Model:                            OLS   Adj. R-squared:                  0.999\n",
      "Method:                 Least Squares   F-statistic:                 1.917e+06\n",
      "Date:                Sun, 17 Oct 2021   Prob (F-statistic):               0.00\n",
      "Time:                        19:23:39   Log-Likelihood:                -25972.\n",
      "No. Observations:                3537   AIC:                         5.195e+04\n",
      "Df Residuals:                    3534   BIC:                         5.197e+04\n",
      "Df Model:                           2                                         \n",
      "Covariance Type:            nonrobust                                         \n",
      "==============================================================================\n",
      "                 coef    std err          t      P>|t|      [0.025      0.975]\n",
      "------------------------------------------------------------------------------\n",
      "Intercept      0.7207      7.202      0.100      0.920     -13.399      14.841\n",
      "High           1.1899      0.016     74.789      0.000       1.159       1.221\n",
      "Price         -0.2230      0.016    -13.666      0.000      -0.255      -0.191\n",
      "==============================================================================\n",
      "Omnibus:                     3420.952   Durbin-Watson:                   1.978\n",
      "Prob(Omnibus):                  0.000   Jarque-Bera (JB):           365281.847\n",
      "Skew:                          -4.350   Prob(JB):                         0.00\n",
      "Kurtosis:                      52.019   Cond. No.                     2.32e+04\n",
      "==============================================================================\n",
      "\n",
      "Warnings:\n",
      "[1] Standard Errors assume that the covariance matrix of the errors is correctly specified.\n",
      "[2] The condition number is large, 2.32e+04. This might indicate that there are\n",
      "strong multicollinearity or other numerical problems.\n"
     ]
    }
   ],
   "source": [
    "regB3 = statsmodels.formula.api.ols('Open~High+Price', data = df).fit()\n",
    "print(regB3.summary())"
   ]
  },
  {
   "cell_type": "code",
   "execution_count": 24,
   "metadata": {},
   "outputs": [
    {
     "name": "stdout",
     "output_type": "stream",
     "text": [
      "                            OLS Regression Results                            \n",
      "==============================================================================\n",
      "Dep. Variable:                   Open   R-squared:                       0.999\n",
      "Model:                            OLS   Adj. R-squared:                  0.999\n",
      "Method:                 Least Squares   F-statistic:                 1.180e+06\n",
      "Date:                Sun, 17 Oct 2021   Prob (F-statistic):               0.00\n",
      "Time:                        19:24:50   Log-Likelihood:                -26830.\n",
      "No. Observations:                3537   AIC:                         5.367e+04\n",
      "Df Residuals:                    3534   BIC:                         5.368e+04\n",
      "Df Model:                           2                                         \n",
      "Covariance Type:            nonrobust                                         \n",
      "==============================================================================\n",
      "                 coef    std err          t      P>|t|      [0.025      0.975]\n",
      "------------------------------------------------------------------------------\n",
      "Intercept      9.3176      9.176      1.015      0.310      -8.674      27.309\n",
      "Low            0.8976      0.020     45.683      0.000       0.859       0.936\n",
      "Price          0.1271      0.019      6.675      0.000       0.090       0.164\n",
      "==============================================================================\n",
      "Omnibus:                     4389.794   Durbin-Watson:                   1.709\n",
      "Prob(Omnibus):                  0.000   Jarque-Bera (JB):          1005598.092\n",
      "Skew:                           6.497   Prob(JB):                         0.00\n",
      "Kurtosis:                      84.575   Cond. No.                     2.25e+04\n",
      "==============================================================================\n",
      "\n",
      "Warnings:\n",
      "[1] Standard Errors assume that the covariance matrix of the errors is correctly specified.\n",
      "[2] The condition number is large, 2.25e+04. This might indicate that there are\n",
      "strong multicollinearity or other numerical problems.\n"
     ]
    }
   ],
   "source": [
    "regB4 = statsmodels.formula.api.ols('Open~Low+Price', data = df).fit()\n",
    "print(regB4.summary())"
   ]
  },
  {
   "cell_type": "code",
   "execution_count": null,
   "metadata": {},
   "outputs": [],
   "source": []
  }
 ],
 "metadata": {
  "kernelspec": {
   "display_name": "Python 3",
   "language": "python",
   "name": "python3"
  },
  "language_info": {
   "codemirror_mode": {
    "name": "ipython",
    "version": 3
   },
   "file_extension": ".py",
   "mimetype": "text/x-python",
   "name": "python",
   "nbconvert_exporter": "python",
   "pygments_lexer": "ipython3",
   "version": "3.8.3"
  }
 },
 "nbformat": 4,
 "nbformat_minor": 4
}
